{
 "cells": [
  {
   "cell_type": "code",
   "execution_count": 27,
   "id": "0575172b-603c-47b8-81b2-2ca71ff50954",
   "metadata": {},
   "outputs": [
    {
     "name": "stdout",
     "output_type": "stream",
     "text": [
      "0.043650091753532884\n"
     ]
    }
   ],
   "source": [
    "#1번 \n",
    "from scipy.stats import beta\n",
    "from math import comb\n",
    "from scipy.special import beta, comb\n",
    "\n",
    "\n",
    "n =30  \n",
    "k =20\n",
    "combination =comb(n,k)\n",
    "result = (beta(40, 30) / beta(20, 20)) *comb(n,k)\n",
    "print(result)"
   ]
  },
  {
   "cell_type": "code",
   "execution_count": 28,
   "id": "39cc66cb-4818-436a-9a33-070e2b783d53",
   "metadata": {},
   "outputs": [
    {
     "name": "stdout",
     "output_type": "stream",
     "text": [
      "0.08259393215159035\n"
     ]
    }
   ],
   "source": [
    "n =30\n",
    "k =20\n",
    "combination =comb(n,k)\n",
    "result = (beta(50, 20) / beta(30, 10)) * comb(n, k)\n",
    "print(result)"
   ]
  },
  {
   "cell_type": "code",
   "execution_count": 29,
   "id": "e240f502-c88f-498d-aa69-e47a1c9e8190",
   "metadata": {},
   "outputs": [
    {
     "data": {
      "text/plain": [
       "0.12624402390512324"
      ]
     },
     "execution_count": 29,
     "metadata": {},
     "output_type": "execute_result"
    }
   ],
   "source": [
    "0.08259393215159035+ 0.043650091753532884"
   ]
  },
  {
   "cell_type": "code",
   "execution_count": 30,
   "id": "16ebe8e3-08b8-42db-92d8-ad188400ba58",
   "metadata": {},
   "outputs": [
    {
     "data": {
      "text/plain": [
       "0.3457596676919728"
      ]
     },
     "execution_count": 30,
     "metadata": {},
     "output_type": "execute_result"
    }
   ],
   "source": [
    "0.043650091753532884/ 0.12624402390512324"
   ]
  },
  {
   "cell_type": "code",
   "execution_count": 31,
   "id": "4a1d9773-4da6-4d5c-b959-bfbac605488a",
   "metadata": {},
   "outputs": [
    {
     "data": {
      "text/plain": [
       "0.6542403323080271"
      ]
     },
     "execution_count": 31,
     "metadata": {},
     "output_type": "execute_result"
    }
   ],
   "source": [
    "0.08259393215159035/ 0.12624402390512324"
   ]
  },
  {
   "cell_type": "markdown",
   "id": "076b1a11-cd3d-4920-a732-05463bee4127",
   "metadata": {},
   "source": [
    "-------"
   ]
  },
  {
   "cell_type": "code",
   "execution_count": 32,
   "id": "c9524b5a-81fd-4ec7-a693-719b1d88c074",
   "metadata": {},
   "outputs": [
    {
     "data": {
      "text/plain": [
       "0.8857998873233516"
      ]
     },
     "execution_count": 32,
     "metadata": {},
     "output_type": "execute_result"
    }
   ],
   "source": [
    "#2번\n",
    "from scipy.stats import beta\n",
    "\n",
    "1- beta.cdf(0.5, 40, 30)"
   ]
  },
  {
   "cell_type": "code",
   "execution_count": 33,
   "id": "c09f0be4-0fc9-4e8c-ba0d-5bdb9e13f1c6",
   "metadata": {},
   "outputs": [
    {
     "data": {
      "text/plain": [
       "0.9998778014917112"
      ]
     },
     "execution_count": 33,
     "metadata": {},
     "output_type": "execute_result"
    }
   ],
   "source": [
    "1- beta.cdf(0.5, 50, 20)"
   ]
  },
  {
   "cell_type": "code",
   "execution_count": 34,
   "id": "6d68edf5-523e-4d69-a6bb-bc84b1e0863f",
   "metadata": {},
   "outputs": [
    {
     "data": {
      "text/plain": [
       "0.9604342597978658"
      ]
     },
     "execution_count": 34,
     "metadata": {},
     "output_type": "execute_result"
    }
   ],
   "source": [
    "(0.3457596676919728 * 0.8857998873233516) +(0.6542403323080271 * 0.9998778014917112)"
   ]
  },
  {
   "cell_type": "markdown",
   "id": "f7cdb08d-bee5-46c8-9b6c-f2dcca30ab15",
   "metadata": {},
   "source": [
    "-----"
   ]
  },
  {
   "cell_type": "code",
   "execution_count": 26,
   "id": "8062613d-2ae6-474e-8fc9-c37720cdc31d",
   "metadata": {},
   "outputs": [
    {
     "data": {
      "text/plain": [
       "0.8857998873233516"
      ]
     },
     "execution_count": 26,
     "metadata": {},
     "output_type": "execute_result"
    }
   ],
   "source": [
    "#3번\n",
    "1- beta.cdf(0.5, 40, 30)"
   ]
  },
  {
   "cell_type": "code",
   "execution_count": null,
   "id": "615db8f1-b20c-48f6-a8fc-01be2f2ee05f",
   "metadata": {},
   "outputs": [],
   "source": []
  }
 ],
 "metadata": {
  "kernelspec": {
   "display_name": "Python 3",
   "language": "python",
   "name": "python3"
  },
  "language_info": {
   "codemirror_mode": {
    "name": "ipython",
    "version": 3
   },
   "file_extension": ".py",
   "mimetype": "text/x-python",
   "name": "python",
   "nbconvert_exporter": "python",
   "pygments_lexer": "ipython3",
   "version": "3.8.8"
  }
 },
 "nbformat": 4,
 "nbformat_minor": 5
}
