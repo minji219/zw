{
 "cells": [
  {
   "cell_type": "code",
   "execution_count": 1,
   "id": "f7c4bc9e-8e40-43b6-853e-5a0266558543",
   "metadata": {},
   "outputs": [],
   "source": [
    "import matplotlib.pyplot as plt\n",
    "import numpy as np\n",
    "import pandas as pd\n",
    "import sklearn.metrics as metrics\n",
    "from pandas import Series, DataFrame"
   ]
  },
  {
   "cell_type": "code",
   "execution_count": 3,
   "id": "1dc5f3cf-23fe-47e3-822e-9542cd0cabf3",
   "metadata": {},
   "outputs": [],
   "source": [
    "ad = pd.read_csv(\"Advertising(1).csv\", header=0)"
   ]
  },
  {
   "cell_type": "code",
   "execution_count": 4,
   "id": "11dc9a8a-34f9-4c86-b72e-3260b7e333a3",
   "metadata": {},
   "outputs": [
    {
     "data": {
      "text/html": [
       "<div>\n",
       "<style scoped>\n",
       "    .dataframe tbody tr th:only-of-type {\n",
       "        vertical-align: middle;\n",
       "    }\n",
       "\n",
       "    .dataframe tbody tr th {\n",
       "        vertical-align: top;\n",
       "    }\n",
       "\n",
       "    .dataframe thead th {\n",
       "        text-align: right;\n",
       "    }\n",
       "</style>\n",
       "<table border=\"1\" class=\"dataframe\">\n",
       "  <thead>\n",
       "    <tr style=\"text-align: right;\">\n",
       "      <th></th>\n",
       "      <th>Unnamed: 0</th>\n",
       "      <th>TV</th>\n",
       "      <th>radio</th>\n",
       "      <th>newspaper</th>\n",
       "      <th>sales</th>\n",
       "    </tr>\n",
       "  </thead>\n",
       "  <tbody>\n",
       "    <tr>\n",
       "      <th>0</th>\n",
       "      <td>1</td>\n",
       "      <td>230.1</td>\n",
       "      <td>37.8</td>\n",
       "      <td>69.2</td>\n",
       "      <td>22.1</td>\n",
       "    </tr>\n",
       "    <tr>\n",
       "      <th>1</th>\n",
       "      <td>2</td>\n",
       "      <td>44.5</td>\n",
       "      <td>39.3</td>\n",
       "      <td>45.1</td>\n",
       "      <td>10.4</td>\n",
       "    </tr>\n",
       "    <tr>\n",
       "      <th>2</th>\n",
       "      <td>3</td>\n",
       "      <td>17.2</td>\n",
       "      <td>45.9</td>\n",
       "      <td>69.3</td>\n",
       "      <td>9.3</td>\n",
       "    </tr>\n",
       "    <tr>\n",
       "      <th>3</th>\n",
       "      <td>4</td>\n",
       "      <td>151.5</td>\n",
       "      <td>41.3</td>\n",
       "      <td>58.5</td>\n",
       "      <td>18.5</td>\n",
       "    </tr>\n",
       "    <tr>\n",
       "      <th>4</th>\n",
       "      <td>5</td>\n",
       "      <td>180.8</td>\n",
       "      <td>10.8</td>\n",
       "      <td>58.4</td>\n",
       "      <td>12.9</td>\n",
       "    </tr>\n",
       "    <tr>\n",
       "      <th>...</th>\n",
       "      <td>...</td>\n",
       "      <td>...</td>\n",
       "      <td>...</td>\n",
       "      <td>...</td>\n",
       "      <td>...</td>\n",
       "    </tr>\n",
       "    <tr>\n",
       "      <th>195</th>\n",
       "      <td>196</td>\n",
       "      <td>38.2</td>\n",
       "      <td>3.7</td>\n",
       "      <td>13.8</td>\n",
       "      <td>7.6</td>\n",
       "    </tr>\n",
       "    <tr>\n",
       "      <th>196</th>\n",
       "      <td>197</td>\n",
       "      <td>94.2</td>\n",
       "      <td>4.9</td>\n",
       "      <td>8.1</td>\n",
       "      <td>9.7</td>\n",
       "    </tr>\n",
       "    <tr>\n",
       "      <th>197</th>\n",
       "      <td>198</td>\n",
       "      <td>177.0</td>\n",
       "      <td>9.3</td>\n",
       "      <td>6.4</td>\n",
       "      <td>12.8</td>\n",
       "    </tr>\n",
       "    <tr>\n",
       "      <th>198</th>\n",
       "      <td>199</td>\n",
       "      <td>283.6</td>\n",
       "      <td>42.0</td>\n",
       "      <td>66.2</td>\n",
       "      <td>25.5</td>\n",
       "    </tr>\n",
       "    <tr>\n",
       "      <th>199</th>\n",
       "      <td>200</td>\n",
       "      <td>232.1</td>\n",
       "      <td>8.6</td>\n",
       "      <td>8.7</td>\n",
       "      <td>13.4</td>\n",
       "    </tr>\n",
       "  </tbody>\n",
       "</table>\n",
       "<p>200 rows × 5 columns</p>\n",
       "</div>"
      ],
      "text/plain": [
       "     Unnamed: 0     TV  radio  newspaper  sales\n",
       "0             1  230.1   37.8       69.2   22.1\n",
       "1             2   44.5   39.3       45.1   10.4\n",
       "2             3   17.2   45.9       69.3    9.3\n",
       "3             4  151.5   41.3       58.5   18.5\n",
       "4             5  180.8   10.8       58.4   12.9\n",
       "..          ...    ...    ...        ...    ...\n",
       "195         196   38.2    3.7       13.8    7.6\n",
       "196         197   94.2    4.9        8.1    9.7\n",
       "197         198  177.0    9.3        6.4   12.8\n",
       "198         199  283.6   42.0       66.2   25.5\n",
       "199         200  232.1    8.6        8.7   13.4\n",
       "\n",
       "[200 rows x 5 columns]"
      ]
     },
     "execution_count": 4,
     "metadata": {},
     "output_type": "execute_result"
    }
   ],
   "source": [
    "ad"
   ]
  },
  {
   "cell_type": "code",
   "execution_count": 5,
   "id": "621eafd2-a08d-4bc0-ade6-4b0ec8d2e2d2",
   "metadata": {},
   "outputs": [],
   "source": [
    "ad['sales'] = (ad['sales'] > 10)*1"
   ]
  },
  {
   "cell_type": "code",
   "execution_count": 6,
   "id": "22ae8e0a-5da6-49a1-9fda-5a4e5ef2c6ef",
   "metadata": {},
   "outputs": [],
   "source": [
    "X = ad[['TV','radio','newspaper']]\n",
    "Y = ad['sales']"
   ]
  },
  {
   "cell_type": "code",
   "execution_count": 7,
   "id": "02c5f004-0018-4ec2-896c-f9a612694695",
   "metadata": {},
   "outputs": [],
   "source": [
    "from sklearn.linear_model import LogisticRegression "
   ]
  },
  {
   "cell_type": "code",
   "execution_count": 201,
   "id": "31fd3edc-e5b1-4800-b76a-8a4e7fc4f410",
   "metadata": {},
   "outputs": [],
   "source": [
    "from sklearn.model_selection import train_test_split\n",
    "X_1,X_2,Y_1,Y_2=train_test_split(X,Y,test_size=0.5,random_state=0)"
   ]
  },
  {
   "cell_type": "code",
   "execution_count": 202,
   "id": "5364b7e4-a890-4c3c-87ee-4fee5655e565",
   "metadata": {},
   "outputs": [],
   "source": [
    "model = LogisticRegression()   # model instance setup\n",
    "model1 = model.fit(X_1,Y_1)"
   ]
  },
  {
   "cell_type": "code",
   "execution_count": 203,
   "id": "c4e113b1-474f-427d-bc82-6cfe3738ca8d",
   "metadata": {},
   "outputs": [],
   "source": [
    "Y_pred2 =model1.predict(X_2)     "
   ]
  },
  {
   "cell_type": "code",
   "execution_count": 204,
   "id": "b061c9c9-1477-413f-938c-4810da97138c",
   "metadata": {},
   "outputs": [
    {
     "data": {
      "text/plain": [
       "array([[19,  6],\n",
       "       [ 1, 74]], dtype=int64)"
      ]
     },
     "execution_count": 204,
     "metadata": {},
     "output_type": "execute_result"
    }
   ],
   "source": [
    "metrics.confusion_matrix(Y_2, Y_pred2)"
   ]
  },
  {
   "cell_type": "code",
   "execution_count": 205,
   "id": "d763b39f-bba6-4104-af5b-c54731348118",
   "metadata": {},
   "outputs": [
    {
     "data": {
      "text/plain": [
       "0.06999999999999995"
      ]
     },
     "execution_count": 205,
     "metadata": {},
     "output_type": "execute_result"
    }
   ],
   "source": [
    "1 - model1.score(X_2,Y_2)  "
   ]
  },
  {
   "cell_type": "code",
   "execution_count": 206,
   "id": "05974395-341e-42cc-a794-9fe30978779c",
   "metadata": {},
   "outputs": [
    {
     "data": {
      "text/plain": [
       "array([[19,  1],\n",
       "       [ 2, 78]], dtype=int64)"
      ]
     },
     "execution_count": 206,
     "metadata": {},
     "output_type": "execute_result"
    }
   ],
   "source": [
    "model2 = model.fit(X_2,Y_2)      # model fitting for 2nd fold\n",
    "Y_pred1 =model2.predict(X_1)     # prediction\n",
    "metrics.confusion_matrix(Y_1, Y_pred1)"
   ]
  },
  {
   "cell_type": "code",
   "execution_count": 207,
   "id": "1dede21d-21f8-4383-9e34-452296e1d9bf",
   "metadata": {},
   "outputs": [
    {
     "data": {
      "text/plain": [
       "0.030000000000000027"
      ]
     },
     "execution_count": 207,
     "metadata": {},
     "output_type": "execute_result"
    }
   ],
   "source": [
    "1 - model2.score(X_1,Y_1)"
   ]
  },
  {
   "cell_type": "code",
   "execution_count": 208,
   "id": "3cfa857d-563a-4488-8122-0771d0823fda",
   "metadata": {},
   "outputs": [
    {
     "data": {
      "text/plain": [
       "0.05"
      ]
     },
     "execution_count": 208,
     "metadata": {},
     "output_type": "execute_result"
    }
   ],
   "source": [
    "(pd.concat([Y_1,Y_2]) != np.concatenate([Y_pred1,Y_pred2])).mean()  # CV misclassification rate"
   ]
  },
  {
   "cell_type": "markdown",
   "id": "d0cd638c-fd3e-42d0-8144-28bcbaaefc4e",
   "metadata": {},
   "source": [
    "## (1) 2-fold CV에서 LDA, QDA, KNN에 의한 오분류율을 각각 계산하여라."
   ]
  },
  {
   "cell_type": "code",
   "execution_count": 209,
   "id": "9fd54afd-9117-46d6-8142-8a445212806a",
   "metadata": {},
   "outputs": [
    {
     "data": {
      "text/plain": [
       "array([[20,  5],\n",
       "       [ 4, 71]], dtype=int64)"
      ]
     },
     "execution_count": 209,
     "metadata": {},
     "output_type": "execute_result"
    }
   ],
   "source": [
    "from sklearn.discriminant_analysis import LinearDiscriminantAnalysis\n",
    "model_lda = LinearDiscriminantAnalysis()\n",
    "model_lda2 = model_lda.fit(X_1,Y_1)\n",
    "Y_pred_lda =model_lda2.predict(X_2)\n",
    "metrics.confusion_matrix(Y_2, Y_pred_lda)"
   ]
  },
  {
   "cell_type": "code",
   "execution_count": 210,
   "id": "29ef32a0-a9e1-40a7-971d-9fe62d41fe5e",
   "metadata": {},
   "outputs": [
    {
     "data": {
      "text/plain": [
       "array([[20,  5],\n",
       "       [ 4, 71]], dtype=int64)"
      ]
     },
     "execution_count": 210,
     "metadata": {},
     "output_type": "execute_result"
    }
   ],
   "source": [
    "cm1 = metrics.confusion_matrix(Y_2, Y_pred_lda) # confusion matrix\n",
    "cm1"
   ]
  },
  {
   "cell_type": "code",
   "execution_count": 211,
   "id": "f0da0df3-ae55-44a9-8ff0-449cf8b4d10e",
   "metadata": {},
   "outputs": [
    {
     "data": {
      "text/plain": [
       "0.09"
      ]
     },
     "execution_count": 211,
     "metadata": {},
     "output_type": "execute_result"
    }
   ],
   "source": [
    "(cm1[1,0]+cm1[0,1]) / cm1.sum()  # lda 오분류율 "
   ]
  },
  {
   "cell_type": "markdown",
   "id": "70651db7-dd3f-4cc4-8f83-c90d34efdd87",
   "metadata": {},
   "source": [
    "----"
   ]
  },
  {
   "cell_type": "code",
   "execution_count": 212,
   "id": "882c6e0b-3057-441f-92c4-b23a193bce47",
   "metadata": {},
   "outputs": [
    {
     "data": {
      "text/plain": [
       "array([[20,  5],\n",
       "       [ 4, 71]], dtype=int64)"
      ]
     },
     "execution_count": 212,
     "metadata": {},
     "output_type": "execute_result"
    }
   ],
   "source": [
    "from sklearn.discriminant_analysis import QuadraticDiscriminantAnalysis\n",
    "model_qda = QuadraticDiscriminantAnalysis()\n",
    "model_qda2 = model_qda.fit(X_1,Y_1)\n",
    "Y_pred_qda =model_qda2.predict(X_2)\n",
    "metrics.confusion_matrix(Y_2, Y_pred_qda)"
   ]
  },
  {
   "cell_type": "code",
   "execution_count": 214,
   "id": "27714377-c13a-4797-861f-e7d3eaa8e07d",
   "metadata": {},
   "outputs": [
    {
     "data": {
      "text/plain": [
       "array([[20,  5],\n",
       "       [ 4, 71]], dtype=int64)"
      ]
     },
     "execution_count": 214,
     "metadata": {},
     "output_type": "execute_result"
    }
   ],
   "source": [
    "cm2 = metrics.confusion_matrix(Y_2, Y_pred_qda) # confusion matrix\n",
    "cm2"
   ]
  },
  {
   "cell_type": "code",
   "execution_count": 215,
   "id": "cebbbce7-ac2f-4041-b4ef-9467eca8eac9",
   "metadata": {},
   "outputs": [
    {
     "data": {
      "text/plain": [
       "0.09"
      ]
     },
     "execution_count": 215,
     "metadata": {},
     "output_type": "execute_result"
    }
   ],
   "source": [
    "(cm2[1,0]+cm2[0,1]) / cm2.sum()  # qda 오분류율 "
   ]
  },
  {
   "cell_type": "markdown",
   "id": "7278b1f2-b351-4245-b734-93426947fd08",
   "metadata": {},
   "source": [
    "----"
   ]
  },
  {
   "cell_type": "code",
   "execution_count": 216,
   "id": "22894997-f71e-43cf-9d04-2565fe6077d8",
   "metadata": {},
   "outputs": [
    {
     "data": {
      "text/plain": [
       "array([[20,  5],\n",
       "       [ 2, 73]], dtype=int64)"
      ]
     },
     "execution_count": 216,
     "metadata": {},
     "output_type": "execute_result"
    }
   ],
   "source": [
    "from sklearn.neighbors import KNeighborsClassifier\n",
    "model_knn = KNeighborsClassifier(n_neighbors=5)\n",
    "model_knn.fit(X_1, Y_1)\n",
    "Y_pred_knn =model_knn.predict(X_2)\n",
    "metrics.confusion_matrix(Y_2, Y_pred_knn)"
   ]
  },
  {
   "cell_type": "code",
   "execution_count": 217,
   "id": "93c42d07-05d7-409a-8d06-03ed3afb25ad",
   "metadata": {},
   "outputs": [
    {
     "data": {
      "text/plain": [
       "array([[20,  5],\n",
       "       [ 2, 73]], dtype=int64)"
      ]
     },
     "execution_count": 217,
     "metadata": {},
     "output_type": "execute_result"
    }
   ],
   "source": [
    "cm3 = metrics.confusion_matrix(Y_2, Y_pred_knn) # confusion matrix\n",
    "cm3"
   ]
  },
  {
   "cell_type": "code",
   "execution_count": 218,
   "id": "ff9f9343-23a2-45c5-9350-874b1afd5b04",
   "metadata": {},
   "outputs": [
    {
     "data": {
      "text/plain": [
       "0.07"
      ]
     },
     "execution_count": 218,
     "metadata": {},
     "output_type": "execute_result"
    }
   ],
   "source": [
    "(cm3[1,0]+cm3[0,1]) / cm3.sum()  # knn 오분류율 "
   ]
  },
  {
   "cell_type": "markdown",
   "id": "e10a450a-972b-4020-a1f6-2eb96c94c035",
   "metadata": {},
   "source": [
    "---"
   ]
  },
  {
   "cell_type": "markdown",
   "id": "422f787f-eb05-4ad6-8d37-c6e226419864",
   "metadata": {},
   "source": [
    "## 5-fold CV를 이용하여 Logistic, LDA, QDA, KNN에 의한 오분류율을 각각 계산하여라."
   ]
  },
  {
   "cell_type": "code",
   "execution_count": 38,
   "id": "73982f09-2252-40e1-a78a-129439906754",
   "metadata": {},
   "outputs": [
    {
     "data": {
      "text/html": [
       "<div>\n",
       "<style scoped>\n",
       "    .dataframe tbody tr th:only-of-type {\n",
       "        vertical-align: middle;\n",
       "    }\n",
       "\n",
       "    .dataframe tbody tr th {\n",
       "        vertical-align: top;\n",
       "    }\n",
       "\n",
       "    .dataframe thead th {\n",
       "        text-align: right;\n",
       "    }\n",
       "</style>\n",
       "<table border=\"1\" class=\"dataframe\">\n",
       "  <thead>\n",
       "    <tr style=\"text-align: right;\">\n",
       "      <th></th>\n",
       "      <th>Unnamed: 0</th>\n",
       "      <th>TV</th>\n",
       "      <th>radio</th>\n",
       "      <th>newspaper</th>\n",
       "      <th>sales</th>\n",
       "    </tr>\n",
       "  </thead>\n",
       "  <tbody>\n",
       "    <tr>\n",
       "      <th>0</th>\n",
       "      <td>113</td>\n",
       "      <td>175.7</td>\n",
       "      <td>15.4</td>\n",
       "      <td>2.4</td>\n",
       "      <td>1</td>\n",
       "    </tr>\n",
       "    <tr>\n",
       "      <th>1</th>\n",
       "      <td>30</td>\n",
       "      <td>70.6</td>\n",
       "      <td>16.0</td>\n",
       "      <td>40.8</td>\n",
       "      <td>1</td>\n",
       "    </tr>\n",
       "    <tr>\n",
       "      <th>2</th>\n",
       "      <td>183</td>\n",
       "      <td>56.2</td>\n",
       "      <td>5.7</td>\n",
       "      <td>29.7</td>\n",
       "      <td>0</td>\n",
       "    </tr>\n",
       "    <tr>\n",
       "      <th>3</th>\n",
       "      <td>200</td>\n",
       "      <td>232.1</td>\n",
       "      <td>8.6</td>\n",
       "      <td>8.7</td>\n",
       "      <td>1</td>\n",
       "    </tr>\n",
       "    <tr>\n",
       "      <th>4</th>\n",
       "      <td>194</td>\n",
       "      <td>166.8</td>\n",
       "      <td>42.0</td>\n",
       "      <td>3.6</td>\n",
       "      <td>1</td>\n",
       "    </tr>\n",
       "  </tbody>\n",
       "</table>\n",
       "</div>"
      ],
      "text/plain": [
       "   Unnamed: 0     TV  radio  newspaper  sales\n",
       "0         113  175.7   15.4        2.4      1\n",
       "1          30   70.6   16.0       40.8      1\n",
       "2         183   56.2    5.7       29.7      0\n",
       "3         200  232.1    8.6        8.7      1\n",
       "4         194  166.8   42.0        3.6      1"
      ]
     },
     "execution_count": 38,
     "metadata": {},
     "output_type": "execute_result"
    }
   ],
   "source": [
    "ad_s = ad.sample(frac=1,random_state=2).reset_index(drop=True)\n",
    "ad_s.head()"
   ]
  },
  {
   "cell_type": "code",
   "execution_count": 39,
   "id": "bf541f63-cc62-4182-abc9-c81ea4b695d2",
   "metadata": {},
   "outputs": [
    {
     "data": {
      "text/plain": [
       "200"
      ]
     },
     "execution_count": 39,
     "metadata": {},
     "output_type": "execute_result"
    }
   ],
   "source": [
    "N = len(ad_s)\n",
    "N"
   ]
  },
  {
   "cell_type": "code",
   "execution_count": 42,
   "id": "9288e20f-d4f0-41d2-990b-e7a1ba73731c",
   "metadata": {},
   "outputs": [],
   "source": [
    "n = N/5"
   ]
  },
  {
   "cell_type": "code",
   "execution_count": 43,
   "id": "9d775c07-8ec0-491f-9336-7cf0b009870a",
   "metadata": {},
   "outputs": [],
   "source": [
    "n = int(n)"
   ]
  },
  {
   "cell_type": "markdown",
   "id": "898f325d-fb8f-4561-8ffc-c28ffab82be7",
   "metadata": {},
   "source": [
    "-----"
   ]
  },
  {
   "cell_type": "code",
   "execution_count": 485,
   "id": "5dd167df-0556-499d-989f-a6d7a912690d",
   "metadata": {},
   "outputs": [],
   "source": [
    "ad1 = ad_s.iloc[:n,]\n",
    "ad2 = ad_s.iloc[(n):2*n,]\n",
    "ad3 = ad_s.iloc[(2*n):3*n,]\n",
    "ad4 = ad_s.iloc[(3*n):4*n,]\n",
    "ad5 = ad_s.iloc[(4*n):5*n,]"
   ]
  },
  {
   "cell_type": "code",
   "execution_count": 486,
   "id": "b209373c-16bd-48d5-a3f7-016113b5eb95",
   "metadata": {},
   "outputs": [],
   "source": [
    "X = ad[['TV','radio','newspaper']]\n",
    "Y = ad['sales']"
   ]
  },
  {
   "cell_type": "code",
   "execution_count": 487,
   "id": "30c0e2b4-780b-4c79-b322-3adedb3a73aa",
   "metadata": {},
   "outputs": [],
   "source": [
    "from sklearn.model_selection import train_test_split\n",
    "X_train_1,X_test_1,Y_train_1,Y_test_1=train_test_split(X,Y,test_size=0.5,random_state=0)"
   ]
  },
  {
   "cell_type": "code",
   "execution_count": 488,
   "id": "7fdf339b-566d-42b3-9a01-b7c8ba62e482",
   "metadata": {},
   "outputs": [],
   "source": [
    "kfold_ad1_test = ad1\n",
    "kfold_ad1_train=pd.concat([ad2,ad3,ad4,ad5])"
   ]
  },
  {
   "cell_type": "code",
   "execution_count": 489,
   "id": "7c6a6c81-cb51-49e9-a9f2-1a6249af401b",
   "metadata": {},
   "outputs": [],
   "source": [
    "X_train_1 = kfold_ad1_train[['TV','radio','newspaper']]\n",
    "Y_train_1 = kfold_ad1_train['sales']\n",
    "X_test_1 = kfold_ad1_test[['TV','radio','newspaper']]\n",
    "Y_test_1 = kfold_ad1_test['sales']"
   ]
  },
  {
   "cell_type": "code",
   "execution_count": 490,
   "id": "01b99534-7a1b-4752-8b06-0185fd3d5be0",
   "metadata": {},
   "outputs": [],
   "source": [
    "model = LogisticRegression()   \n",
    "model1 = model.fit(X_train_1,Y_train_1) "
   ]
  },
  {
   "cell_type": "code",
   "execution_count": 491,
   "id": "9554a689-c486-4cb6-bcec-71cfb8aa7382",
   "metadata": {},
   "outputs": [],
   "source": [
    "Y_pred2 =model1.predict(X_test_1)     # prediction"
   ]
  },
  {
   "cell_type": "code",
   "execution_count": 492,
   "id": "8e20991d-362a-49bd-aa1f-f8589654b8bb",
   "metadata": {},
   "outputs": [
    {
     "data": {
      "text/plain": [
       "array([[ 7,  2],\n",
       "       [ 1, 30]], dtype=int64)"
      ]
     },
     "execution_count": 492,
     "metadata": {},
     "output_type": "execute_result"
    }
   ],
   "source": [
    "metrics.confusion_matrix(Y_test_1, Y_pred2)"
   ]
  },
  {
   "cell_type": "code",
   "execution_count": 493,
   "id": "4dc78275-c187-4098-b1e8-052eeba13f6e",
   "metadata": {},
   "outputs": [
    {
     "data": {
      "text/plain": [
       "0.075"
      ]
     },
     "execution_count": 493,
     "metadata": {},
     "output_type": "execute_result"
    }
   ],
   "source": [
    "cm1 = metrics.confusion_matrix(Y_test_1, Y_pred2) # confusion matrix\n",
    "(cm1[1,0]+cm1[0,1]) / cm1.sum()  # lda  lohist오분류율 "
   ]
  },
  {
   "cell_type": "markdown",
   "id": "49884914-888f-41d4-8398-1e577ad1dd70",
   "metadata": {},
   "source": [
    "----"
   ]
  },
  {
   "cell_type": "code",
   "execution_count": 494,
   "id": "96baf6d4-441a-4c81-bcdb-455ee29a2b1e",
   "metadata": {},
   "outputs": [],
   "source": [
    "kfold_ad2_test = ad2\n",
    "kfold_ad2_train=pd.concat([ad5,ad1,ad3,ad4])\n",
    "X_train_2 = kfold_ad2_train[['TV','radio','newspaper']]\n",
    "Y_train_2 = kfold_ad2_train['sales']\n",
    "X_test_2 = kfold_ad2_test[['TV','radio','newspaper']]\n",
    "Y_test_2 = kfold_ad2_test['sales']\n",
    "X_train_2,X_test_2,Y_train_2,Y_test_2=train_test_split(X,Y,test_size=0.5,random_state=0)"
   ]
  },
  {
   "cell_type": "code",
   "execution_count": 495,
   "id": "8dbad831-7099-428a-bdba-55718a63ef36",
   "metadata": {},
   "outputs": [],
   "source": [
    "model = LogisticRegression()   \n",
    "model2 = model.fit(X_train_2,Y_train_2) \n",
    "Y_pred2 =model2.predict(X_test_2)     # prediction"
   ]
  },
  {
   "cell_type": "code",
   "execution_count": 496,
   "id": "8f92b8ac-079c-4068-834a-6683798727b3",
   "metadata": {},
   "outputs": [
    {
     "data": {
      "text/plain": [
       "array([[19,  6],\n",
       "       [ 1, 74]], dtype=int64)"
      ]
     },
     "execution_count": 496,
     "metadata": {},
     "output_type": "execute_result"
    }
   ],
   "source": [
    "metrics.confusion_matrix(Y_test_2, Y_pred2)"
   ]
  },
  {
   "cell_type": "code",
   "execution_count": 497,
   "id": "5d4d3bd3-24d4-4b27-a487-f5f176b93698",
   "metadata": {},
   "outputs": [
    {
     "data": {
      "text/plain": [
       "0.07"
      ]
     },
     "execution_count": 497,
     "metadata": {},
     "output_type": "execute_result"
    }
   ],
   "source": [
    "cm2 = metrics.confusion_matrix(Y_test_2, Y_pred2) # confusion matrix\n",
    "(cm2[1,0]+cm2[0,1]) / cm2.sum() "
   ]
  },
  {
   "cell_type": "markdown",
   "id": "151f2187-9031-4cc5-bb0d-8b098af29aa3",
   "metadata": {},
   "source": [
    "----"
   ]
  },
  {
   "cell_type": "code",
   "execution_count": 498,
   "id": "0933dd7d-7422-46af-a5fc-bbc27fbcfda5",
   "metadata": {},
   "outputs": [],
   "source": [
    "kfold_ad3_test = ad3\n",
    "kfold_ad3_train=pd.concat([ad5,ad1,ad2,ad4])\n",
    "X_train_3 = kfold_ad3_train[['TV','radio','newspaper']]\n",
    "Y_train_3 = kfold_ad3_train['sales']\n",
    "X_test_3 = kfold_ad3_test[['TV','radio','newspaper']]\n",
    "Y_test_3 = kfold_ad3_test['sales']\n",
    "X_train_3,X_test_3,Y_train_3,Y_test_3=train_test_split(X,Y,test_size=0.5,random_state=0)"
   ]
  },
  {
   "cell_type": "code",
   "execution_count": 499,
   "id": "979beff8-0312-4217-a59c-020016d793a0",
   "metadata": {},
   "outputs": [],
   "source": [
    "model = LogisticRegression()   \n",
    "model3 = model.fit(X_train_3,Y_train_3) \n",
    "Y_pred3 =model3.predict(X_test_3)"
   ]
  },
  {
   "cell_type": "code",
   "execution_count": 500,
   "id": "950c6a68-9b9d-4594-94cc-d86c3b2db268",
   "metadata": {},
   "outputs": [
    {
     "data": {
      "text/plain": [
       "array([[19,  6],\n",
       "       [ 1, 74]], dtype=int64)"
      ]
     },
     "execution_count": 500,
     "metadata": {},
     "output_type": "execute_result"
    }
   ],
   "source": [
    "metrics.confusion_matrix(Y_test_3, Y_pred3)"
   ]
  },
  {
   "cell_type": "code",
   "execution_count": 501,
   "id": "ca0dad0e-515a-40c8-89f1-c53ea8e06ce8",
   "metadata": {},
   "outputs": [
    {
     "data": {
      "text/plain": [
       "0.07"
      ]
     },
     "execution_count": 501,
     "metadata": {},
     "output_type": "execute_result"
    }
   ],
   "source": [
    "cm3 = metrics.confusion_matrix(Y_test_3, Y_pred3) # confusion matrix\n",
    "(cm3[1,0]+cm3[0,1]) / cm3.sum() "
   ]
  },
  {
   "cell_type": "markdown",
   "id": "10ec25de-569b-4f28-968a-6c3ad269b8da",
   "metadata": {},
   "source": [
    "-----"
   ]
  },
  {
   "cell_type": "code",
   "execution_count": 502,
   "id": "bf58676a-03f1-49e7-832b-be114ace92a2",
   "metadata": {},
   "outputs": [],
   "source": [
    "kfold_ad4_test = ad4\n",
    "kfold_ad4_train=pd.concat([ad5,ad1,ad2,ad3])\n",
    "X_train_4 = kfold_ad4_train[['TV','radio','newspaper']]\n",
    "Y_train_4 = kfold_ad4_train['sales']\n",
    "X_test_4 = kfold_ad4_test[['TV','radio','newspaper']]\n",
    "Y_test_4 = kfold_ad4_test['sales']\n",
    "X_train_4,X_test_4,Y_train_4,Y_test_4=train_test_split(X,Y,test_size=0.5,random_state=0)"
   ]
  },
  {
   "cell_type": "code",
   "execution_count": 503,
   "id": "93d8660d-7a7b-49a7-af99-54d98ad6b9ad",
   "metadata": {},
   "outputs": [],
   "source": [
    "model = LogisticRegression()   \n",
    "model4 = model.fit(X_train_4,Y_train_4) \n",
    "Y_pred4 =model4.predict(X_test_4)"
   ]
  },
  {
   "cell_type": "code",
   "execution_count": 506,
   "id": "bc508b03-52cd-485d-b34f-df6aa793808c",
   "metadata": {},
   "outputs": [
    {
     "data": {
      "text/plain": [
       "array([[19,  6],\n",
       "       [ 1, 74]], dtype=int64)"
      ]
     },
     "execution_count": 506,
     "metadata": {},
     "output_type": "execute_result"
    }
   ],
   "source": [
    "metrics.confusion_matrix(Y_test_4, Y_pred4)"
   ]
  },
  {
   "cell_type": "code",
   "execution_count": 507,
   "id": "dae843a6-3262-465e-a6d3-84194454ef3f",
   "metadata": {},
   "outputs": [
    {
     "data": {
      "text/plain": [
       "0.07"
      ]
     },
     "execution_count": 507,
     "metadata": {},
     "output_type": "execute_result"
    }
   ],
   "source": [
    "cm4 = metrics.confusion_matrix(Y_test_4, Y_pred4) # confusion matrix\n",
    "(cm4[1,0]+cm4[0,1]) / cm4.sum() "
   ]
  },
  {
   "cell_type": "markdown",
   "id": "3f286912-fae3-4154-8f05-9ef7c370bb23",
   "metadata": {},
   "source": [
    "-----"
   ]
  },
  {
   "cell_type": "code",
   "execution_count": 508,
   "id": "c3ad0f80-1a28-4bdf-9fac-84d27b9ed0d3",
   "metadata": {},
   "outputs": [],
   "source": [
    "kfold_ad5_test = ad5\n",
    "kfold_ad5_train=pd.concat([ad4,ad1,ad2,ad3])\n",
    "X_train_5 = kfold_ad5_train[['TV','radio','newspaper']]\n",
    "Y_train_5 = kfold_ad5_train['sales']\n",
    "X_test_5 = kfold_ad5_test[['TV','radio','newspaper']]\n",
    "Y_test5 = kfold_ad5_test['sales']\n",
    "X_train_5,X_test_5,Y_train_5,Y_test_5=train_test_split(X,Y,test_size=0.5,random_state=0)"
   ]
  },
  {
   "cell_type": "code",
   "execution_count": 509,
   "id": "b0b01357-64fa-4877-baff-3d97d0e964b6",
   "metadata": {},
   "outputs": [],
   "source": [
    "model = LogisticRegression()   \n",
    "model5 = model.fit(X_train_5,Y_train_5) \n",
    "Y_pred5 =model5.predict(X_test_5)"
   ]
  },
  {
   "cell_type": "code",
   "execution_count": 510,
   "id": "e4ddbe3c-630c-4d35-ac6e-267187cea3c9",
   "metadata": {},
   "outputs": [
    {
     "data": {
      "text/plain": [
       "array([[19,  6],\n",
       "       [ 1, 74]], dtype=int64)"
      ]
     },
     "execution_count": 510,
     "metadata": {},
     "output_type": "execute_result"
    }
   ],
   "source": [
    "metrics.confusion_matrix(Y_test_5, Y_pred5)"
   ]
  },
  {
   "cell_type": "code",
   "execution_count": 511,
   "id": "d2e67822-66cd-4982-a010-c54337966a19",
   "metadata": {},
   "outputs": [
    {
     "data": {
      "text/plain": [
       "0.07"
      ]
     },
     "execution_count": 511,
     "metadata": {},
     "output_type": "execute_result"
    }
   ],
   "source": [
    "cm5 = metrics.confusion_matrix(Y_test_5, Y_pred5) # confusion matrix\n",
    "(cm5[1,0]+cm5[0,1]) / cm5.sum() "
   ]
  },
  {
   "cell_type": "markdown",
   "id": "bd00133e-0fd4-47e5-8a19-d65ab834b323",
   "metadata": {},
   "source": [
    "### logist 5-fold 의 평균은 0.071 이다"
   ]
  },
  {
   "cell_type": "code",
   "execution_count": 512,
   "id": "9fc6cad9-a5b1-4f6b-bd5e-12fe31f6e8cd",
   "metadata": {},
   "outputs": [
    {
     "data": {
      "text/plain": [
       "0.07100000000000001"
      ]
     },
     "execution_count": 512,
     "metadata": {},
     "output_type": "execute_result"
    }
   ],
   "source": [
    "(0.07+0.07+0.07+0.075+0.07)/5"
   ]
  },
  {
   "cell_type": "markdown",
   "id": "946f8e6b-a500-4308-876c-746d7654dd8b",
   "metadata": {},
   "source": [
    "---"
   ]
  },
  {
   "cell_type": "markdown",
   "id": "04c2ada1-ac17-4ef2-94c0-0e1ed16e10ec",
   "metadata": {},
   "source": [
    "## lda"
   ]
  },
  {
   "cell_type": "code",
   "execution_count": 440,
   "id": "151d63c6-e3f2-4c33-961d-077bc5564a36",
   "metadata": {},
   "outputs": [],
   "source": [
    "ad1 = ad_s.iloc[:n,]\n",
    "ad2 = ad_s.iloc[(n):2*n,]\n",
    "ad3 = ad_s.iloc[(2*n):3*n,]\n",
    "ad4 = ad_s.iloc[(3*n):4*n,]\n",
    "ad5 = ad_s.iloc[(4*n):5*n,]"
   ]
  },
  {
   "cell_type": "code",
   "execution_count": 441,
   "id": "83258b2a-5ec5-46c3-9d03-7720e15749a8",
   "metadata": {},
   "outputs": [],
   "source": [
    "X = ad[['TV','radio','newspaper']]\n",
    "Y = ad['sales']"
   ]
  },
  {
   "cell_type": "code",
   "execution_count": 442,
   "id": "284ee7a1-6098-4925-9ffc-f21ff2f44dea",
   "metadata": {},
   "outputs": [],
   "source": [
    "from sklearn.model_selection import train_test_split\n",
    "X_train_1,X_test_1,Y_train_1,Y_test_1=train_test_split(X,Y,test_size=0.5,random_state=0)"
   ]
  },
  {
   "cell_type": "code",
   "execution_count": 443,
   "id": "14714ca1-597f-4049-8c41-f762c15de6f2",
   "metadata": {},
   "outputs": [],
   "source": [
    "kfold_ad1_test = ad1\n",
    "kfold_ad1_train=pd.concat([ad2,ad3,ad4,ad5])"
   ]
  },
  {
   "cell_type": "code",
   "execution_count": 444,
   "id": "56bd4cb6-0c89-4243-b9e6-4bf2eed4bd19",
   "metadata": {},
   "outputs": [],
   "source": [
    "X_train_1 = kfold_ad1_train[['TV','radio','newspaper']]\n",
    "Y_train_1 = kfold_ad1_train['sales']\n",
    "X_test_1 = kfold_ad1_test[['TV','radio','newspaper']]\n",
    "Y_test_1 = kfold_ad1_test['sales']"
   ]
  },
  {
   "cell_type": "code",
   "execution_count": 445,
   "id": "1f78c4bc-00e2-4cf8-98d4-92e4b81b8c93",
   "metadata": {},
   "outputs": [
    {
     "data": {
      "text/plain": [
       "array([[ 8,  1],\n",
       "       [ 2, 29]], dtype=int64)"
      ]
     },
     "execution_count": 445,
     "metadata": {},
     "output_type": "execute_result"
    }
   ],
   "source": [
    "from sklearn.discriminant_analysis import LinearDiscriminantAnalysis\n",
    "model_lda = LinearDiscriminantAnalysis()\n",
    "model_lda2 = model_lda.fit(X_train_1,Y_train_1)\n",
    "Y_pred_lda =model_lda2.predict(X_test_1)\n",
    "metrics.confusion_matrix(Y_test_1, Y_pred_lda)\n",
    "#X_train,X_test,Y_train,Y_test=train_test_split(X,Y,test_size=0.3,random_state=0)\n"
   ]
  },
  {
   "cell_type": "code",
   "execution_count": 446,
   "id": "07a633c0-5ee9-4c05-8e01-705902e43911",
   "metadata": {},
   "outputs": [
    {
     "data": {
      "text/plain": [
       "array([[ 8,  1],\n",
       "       [ 2, 29]], dtype=int64)"
      ]
     },
     "execution_count": 446,
     "metadata": {},
     "output_type": "execute_result"
    }
   ],
   "source": [
    "cm1 = metrics.confusion_matrix(Y_test_1, Y_pred_lda) # confusion matrix\n",
    "cm1"
   ]
  },
  {
   "cell_type": "code",
   "execution_count": 447,
   "id": "ca334e73-5923-4145-8df8-12d7555fc1f4",
   "metadata": {},
   "outputs": [
    {
     "data": {
      "text/plain": [
       "0.075"
      ]
     },
     "execution_count": 447,
     "metadata": {},
     "output_type": "execute_result"
    }
   ],
   "source": [
    "(cm1[1,0]+cm1[0,1]) / cm1.sum()  # lda  ad1 오분류율 "
   ]
  },
  {
   "cell_type": "markdown",
   "id": "15c2c038-9b9a-44c7-9cb2-c16d284e230a",
   "metadata": {},
   "source": [
    "----"
   ]
  },
  {
   "cell_type": "code",
   "execution_count": 448,
   "id": "ced827ce-be1c-4052-ad5c-6b077ecbfe49",
   "metadata": {},
   "outputs": [],
   "source": [
    "kfold_ad2_test = ad2\n",
    "kfold_ad2_train=pd.concat([ad1,ad3,ad4,ad5])"
   ]
  },
  {
   "cell_type": "code",
   "execution_count": 449,
   "id": "343ce200-ac5b-4792-a111-3baab0597b47",
   "metadata": {},
   "outputs": [],
   "source": [
    "X_train_2 = kfold_ad2_train[['TV','radio','newspaper']]\n",
    "Y_train_2 = kfold_ad2_train['sales']\n",
    "X_test_2 = kfold_ad2_test[['TV','radio','newspaper']]\n",
    "Y_test_2 = kfold_ad2_test['sales']"
   ]
  },
  {
   "cell_type": "code",
   "execution_count": 450,
   "id": "65504c7c-e0a7-4802-85a9-91ceab44e2a0",
   "metadata": {},
   "outputs": [],
   "source": [
    "from sklearn.model_selection import train_test_split\n",
    "X_train_2,X_test_2,Y_train_2,Y_test_2=train_test_split(X,Y,test_size=0.5,random_state=0)"
   ]
  },
  {
   "cell_type": "code",
   "execution_count": 451,
   "id": "514b7471-6e75-4f16-a8bb-11188c298969",
   "metadata": {},
   "outputs": [
    {
     "data": {
      "text/plain": [
       "array([[20,  5],\n",
       "       [ 4, 71]], dtype=int64)"
      ]
     },
     "execution_count": 451,
     "metadata": {},
     "output_type": "execute_result"
    }
   ],
   "source": [
    "from sklearn.discriminant_analysis import LinearDiscriminantAnalysis\n",
    "model_lda = LinearDiscriminantAnalysis()\n",
    "model_lda2 = model_lda.fit(X_train_2,Y_train_2)\n",
    "Y_pred_lda_2 =model_lda2.predict(X_test_2)\n",
    "metrics.confusion_matrix(Y_test_2, Y_pred_lda_2)\n",
    "#X_train,X_test,Y_train,Y_test=train_test_split(X,Y,test_size=0.3,random_state=0)"
   ]
  },
  {
   "cell_type": "code",
   "execution_count": 452,
   "id": "1e128537-e225-4592-b001-c191b7b05276",
   "metadata": {},
   "outputs": [
    {
     "data": {
      "text/plain": [
       "array([[20,  5],\n",
       "       [ 4, 71]], dtype=int64)"
      ]
     },
     "execution_count": 452,
     "metadata": {},
     "output_type": "execute_result"
    }
   ],
   "source": [
    "cm2 = metrics.confusion_matrix(Y_test_2, Y_pred_lda_2) # confusion matrix\n",
    "cm2"
   ]
  },
  {
   "cell_type": "code",
   "execution_count": 453,
   "id": "959413d8-0538-4ced-b129-d04f390ccfad",
   "metadata": {},
   "outputs": [
    {
     "data": {
      "text/plain": [
       "0.05"
      ]
     },
     "execution_count": 453,
     "metadata": {},
     "output_type": "execute_result"
    }
   ],
   "source": [
    "(cm2[1,0]+cm1[0,1]) / cm2.sum()  # lda  ad2 오분류율 "
   ]
  },
  {
   "cell_type": "markdown",
   "id": "f259950b-ea66-43bd-bb05-fdcee9fb4808",
   "metadata": {},
   "source": [
    "----"
   ]
  },
  {
   "cell_type": "code",
   "execution_count": 454,
   "id": "a37bbfcc-c5c8-4db9-af3b-6d43b5dd760b",
   "metadata": {},
   "outputs": [],
   "source": [
    "kfold_ad3_test = ad3\n",
    "kfold_ad3_train=pd.concat([ad1,ad2,ad4,ad5])"
   ]
  },
  {
   "cell_type": "code",
   "execution_count": 455,
   "id": "e789708f-58a7-4780-82bc-6f45ddd7ab20",
   "metadata": {},
   "outputs": [],
   "source": [
    "X = ad[['TV','radio','newspaper']]\n",
    "Y = ad['sales']"
   ]
  },
  {
   "cell_type": "code",
   "execution_count": 456,
   "id": "57c415bf-e8a0-4f78-878d-cfb08e01d8fa",
   "metadata": {},
   "outputs": [],
   "source": [
    "X_train_3 = kfold_ad3_train[['TV','radio','newspaper']]\n",
    "Y_train_3 = kfold_ad3_train['sales']\n",
    "X_test_3 = kfold_ad3_test[['TV','radio','newspaper']]\n",
    "Y_test_3 = kfold_ad3_test['sales']"
   ]
  },
  {
   "cell_type": "code",
   "execution_count": 457,
   "id": "2fd51f74-7ca0-4e7d-9961-0b7096a838f9",
   "metadata": {},
   "outputs": [],
   "source": [
    "from sklearn.model_selection import train_test_split\n",
    "X_train_3,X_test_3,Y_train_3,Y_test_3=train_test_split(X,Y,test_size=0.5,random_state=0)"
   ]
  },
  {
   "cell_type": "code",
   "execution_count": 458,
   "id": "b3936ccf-e938-4f6b-97cf-1d0513759b82",
   "metadata": {},
   "outputs": [
    {
     "data": {
      "text/plain": [
       "array([[20,  5],\n",
       "       [ 4, 71]], dtype=int64)"
      ]
     },
     "execution_count": 458,
     "metadata": {},
     "output_type": "execute_result"
    }
   ],
   "source": [
    "from sklearn.discriminant_analysis import LinearDiscriminantAnalysis\n",
    "model_lda = LinearDiscriminantAnalysis()\n",
    "model_lda2 = model_lda.fit(X_train_3,Y_train_3)\n",
    "Y_pred_lda_3 =model_lda2.predict(X_test_3)\n",
    "metrics.confusion_matrix(Y_test_3, Y_pred_lda_3)\n",
    "#X_train,X_test,Y_train,Y_test=train_test_split(X,Y,test_size=0.3,random_state=0)"
   ]
  },
  {
   "cell_type": "code",
   "execution_count": 459,
   "id": "95a21ca1-f2c0-4fce-bd5c-018b7324aa1d",
   "metadata": {},
   "outputs": [
    {
     "data": {
      "text/plain": [
       "array([[20,  5],\n",
       "       [ 4, 71]], dtype=int64)"
      ]
     },
     "execution_count": 459,
     "metadata": {},
     "output_type": "execute_result"
    }
   ],
   "source": [
    "cm3 = metrics.confusion_matrix(Y_test_3, Y_pred_lda_3) # confusion matrix\n",
    "cm3"
   ]
  },
  {
   "cell_type": "code",
   "execution_count": 460,
   "id": "de67cb94-61b2-47e9-98b9-6c955e99adf2",
   "metadata": {},
   "outputs": [
    {
     "data": {
      "text/plain": [
       "0.09"
      ]
     },
     "execution_count": 460,
     "metadata": {},
     "output_type": "execute_result"
    }
   ],
   "source": [
    "(cm3[1,0]+cm3[0,1]) / cm3.sum()  # lda  ad3 오분류율 "
   ]
  },
  {
   "cell_type": "markdown",
   "id": "b2d7b482-226e-4963-ade5-46dfbbf76552",
   "metadata": {},
   "source": [
    "----"
   ]
  },
  {
   "cell_type": "code",
   "execution_count": 461,
   "id": "1b01c918-6730-4e1e-bbcd-73a8b85bf4ee",
   "metadata": {},
   "outputs": [],
   "source": [
    "kfold_ad4_test = ad4\n",
    "kfold_ad4_train=pd.concat([ad1,ad2,ad3,ad5])"
   ]
  },
  {
   "cell_type": "code",
   "execution_count": 462,
   "id": "d4671580-1ab8-4d6a-9aa6-65fefcd1f329",
   "metadata": {},
   "outputs": [],
   "source": [
    "X_train_4 = kfold_ad4_train[['TV','radio','newspaper']]\n",
    "Y_train_4 = kfold_ad4_train['sales']\n",
    "X_test_4 = kfold_ad4_test[['TV','radio','newspaper']]\n",
    "Y_test_4 = kfold_ad4_test['sales']\n",
    "X_train_4,X_test_4,Y_train_4,Y_test_4=train_test_split(X,Y,test_size=0.5,random_state=0)"
   ]
  },
  {
   "cell_type": "code",
   "execution_count": 463,
   "id": "2dcd1057-075f-415f-8126-c2091a24fbb6",
   "metadata": {},
   "outputs": [
    {
     "data": {
      "text/plain": [
       "array([[20,  5],\n",
       "       [ 4, 71]], dtype=int64)"
      ]
     },
     "execution_count": 463,
     "metadata": {},
     "output_type": "execute_result"
    }
   ],
   "source": [
    "model_lda = LinearDiscriminantAnalysis()\n",
    "model_lda2 = model_lda.fit(X_train_4,Y_train_4)\n",
    "Y_pred_lda_4=model_lda2.predict(X_test_4)\n",
    "metrics.confusion_matrix(Y_test_4, Y_pred_lda_4)"
   ]
  },
  {
   "cell_type": "code",
   "execution_count": 464,
   "id": "25fd3ae0-84c3-4381-b495-e42690b85ee1",
   "metadata": {},
   "outputs": [
    {
     "data": {
      "text/plain": [
       "0.09"
      ]
     },
     "execution_count": 464,
     "metadata": {},
     "output_type": "execute_result"
    }
   ],
   "source": [
    "cm4 = metrics.confusion_matrix(Y_test_4, Y_pred_lda_4) # confusion matrix\n",
    "(cm4[1,0]+cm4[0,1]) / cm4.sum()"
   ]
  },
  {
   "cell_type": "markdown",
   "id": "138f786c-148a-4601-9bf2-ea505bbb9a79",
   "metadata": {},
   "source": [
    "----"
   ]
  },
  {
   "cell_type": "code",
   "execution_count": 465,
   "id": "835102a7-bebd-44e7-96ba-bb0ce670606e",
   "metadata": {},
   "outputs": [],
   "source": [
    "kfold_ad5_test = ad5\n",
    "kfold_ad5_train=pd.concat([ad1,ad2,ad3,ad4])\n",
    "X_train_5 = kfold_ad5_train[['TV','radio','newspaper']]\n",
    "Y_train_5 = kfold_ad5_train['sales']\n",
    "X_test_5 = kfold_ad5_test[['TV','radio','newspaper']]\n",
    "Y_test_5 = kfold_ad5_test['sales']\n",
    "X_train_5,X_test_5,Y_train_5,Y_test_5=train_test_split(X,Y,test_size=0.5,random_state=0)"
   ]
  },
  {
   "cell_type": "code",
   "execution_count": 466,
   "id": "666b66c7-abb4-4df1-ab5f-2d8053eee95e",
   "metadata": {},
   "outputs": [
    {
     "data": {
      "text/plain": [
       "array([[20,  5],\n",
       "       [ 4, 71]], dtype=int64)"
      ]
     },
     "execution_count": 466,
     "metadata": {},
     "output_type": "execute_result"
    }
   ],
   "source": [
    "model_lda = LinearDiscriminantAnalysis()\n",
    "model_lda2 = model_lda.fit(X_train_5,Y_train_5)\n",
    "Y_pred_lda_5=model_lda2.predict(X_test_5)\n",
    "metrics.confusion_matrix(Y_test_5, Y_pred_lda_5)"
   ]
  },
  {
   "cell_type": "code",
   "execution_count": 467,
   "id": "603e96b3-d794-421b-98d1-7b01968bfbd3",
   "metadata": {},
   "outputs": [
    {
     "data": {
      "text/plain": [
       "0.09"
      ]
     },
     "execution_count": 467,
     "metadata": {},
     "output_type": "execute_result"
    }
   ],
   "source": [
    "cm5 = metrics.confusion_matrix(Y_test_5, Y_pred_lda_5) # confusion matrix\n",
    "(cm5[1,0]+cm5[0,1]) / cm5.sum()"
   ]
  },
  {
   "cell_type": "markdown",
   "id": "ef208da1-8562-408d-b3f2-76681cf57cc8",
   "metadata": {},
   "source": [
    "#### lda 의 5-fold 평균은 0.79이다 "
   ]
  },
  {
   "cell_type": "code",
   "execution_count": 470,
   "id": "1f902455-6358-4772-b42a-d178420f1640",
   "metadata": {},
   "outputs": [
    {
     "data": {
      "text/plain": [
       "0.07899999999999999"
      ]
     },
     "execution_count": 470,
     "metadata": {},
     "output_type": "execute_result"
    }
   ],
   "source": [
    "(0.075+0.09+0.09+0.09+0.05)/5"
   ]
  },
  {
   "cell_type": "markdown",
   "id": "2fe08734-dd08-4a56-a884-e98529f1c220",
   "metadata": {},
   "source": [
    "-----"
   ]
  },
  {
   "cell_type": "markdown",
   "id": "8ba2eed3-a0f3-4aa7-ba9b-720a2ef7b12a",
   "metadata": {},
   "source": [
    "### qda"
   ]
  },
  {
   "cell_type": "code",
   "execution_count": 394,
   "id": "eada6be9-798c-480e-a91f-76087cb1d7ef",
   "metadata": {},
   "outputs": [],
   "source": [
    "kfold_ad1_test = ad1\n",
    "kfold_ad1_train=pd.concat([ad5,ad2,ad3,ad4])\n",
    "X_train_1 = kfold_ad1_train[['TV','radio','newspaper']]\n",
    "Y_train_1 = kfold_ad1_train['sales']\n",
    "X_test_1 = kfold_ad1_test[['TV','radio','newspaper']]\n",
    "Y_test_1 = kfold_ad1_test['sales']\n",
    "X_train_1,X_test_1,Y_train_1,Y_test_1=train_test_split(X,Y,test_size=0.5,random_state=0)"
   ]
  },
  {
   "cell_type": "code",
   "execution_count": 400,
   "id": "bb5626c1-2e05-4471-b1ba-841763683113",
   "metadata": {},
   "outputs": [
    {
     "data": {
      "text/plain": [
       "array([[20,  5],\n",
       "       [ 4, 71]], dtype=int64)"
      ]
     },
     "execution_count": 400,
     "metadata": {},
     "output_type": "execute_result"
    }
   ],
   "source": [
    "model_qda = QuadraticDiscriminantAnalysis()\n",
    "model_qda2 = model_qda.fit(X_train_1,Y_train_1)\n",
    "Y_pred_qda =model_qda2.predict(X_test_1)\n",
    "metrics.confusion_matrix(Y_test_1, Y_pred_qda)"
   ]
  },
  {
   "cell_type": "code",
   "execution_count": 401,
   "id": "88bb2032-2ac0-4ea6-8150-3bcf879c274c",
   "metadata": {},
   "outputs": [
    {
     "data": {
      "text/plain": [
       "0.09"
      ]
     },
     "execution_count": 401,
     "metadata": {},
     "output_type": "execute_result"
    }
   ],
   "source": [
    "cm1 = metrics.confusion_matrix(Y_test_1, Y_pred_qda) # confusion matrix\n",
    "(cm1[1,0]+cm1[0,1]) / cm1.sum()"
   ]
  },
  {
   "cell_type": "markdown",
   "id": "edde15d7-c967-4199-9b4e-d2568a391463",
   "metadata": {},
   "source": [
    "----"
   ]
  },
  {
   "cell_type": "code",
   "execution_count": 397,
   "id": "22419de3-b4e7-4aa6-bad9-a65509a704c8",
   "metadata": {},
   "outputs": [],
   "source": [
    "kfold_ad2_test = ad2\n",
    "kfold_ad2_train=pd.concat([ad1,ad5,ad3,ad4])\n",
    "X_train_2 = kfold_ad2_train[['TV','radio','newspaper']]\n",
    "Y_train_2 = kfold_ad2_train['sales']\n",
    "X_test_2 = kfold_ad2_test[['TV','radio','newspaper']]\n",
    "Y_test_2 = kfold_ad2_test['sales']\n",
    "X_train_2,X_test_2,Y_train_2,Y_test_2=train_test_split(X,Y,test_size=0.5,random_state=0)"
   ]
  },
  {
   "cell_type": "code",
   "execution_count": 402,
   "id": "8df4460f-b574-4c01-8755-a6232703e920",
   "metadata": {},
   "outputs": [
    {
     "data": {
      "text/plain": [
       "array([[20,  5],\n",
       "       [ 4, 71]], dtype=int64)"
      ]
     },
     "execution_count": 402,
     "metadata": {},
     "output_type": "execute_result"
    }
   ],
   "source": [
    "model_qda = QuadraticDiscriminantAnalysis()\n",
    "model_qda2 = model_qda.fit(X_train_2,Y_train_2)\n",
    "Y_pred_qda2 =model_qda2.predict(X_test_2)\n",
    "metrics.confusion_matrix(Y_test_2, Y_pred_qda2)"
   ]
  },
  {
   "cell_type": "code",
   "execution_count": 403,
   "id": "eef616db-2f9f-40ec-a386-ea2cccdecbf9",
   "metadata": {},
   "outputs": [
    {
     "data": {
      "text/plain": [
       "0.09"
      ]
     },
     "execution_count": 403,
     "metadata": {},
     "output_type": "execute_result"
    }
   ],
   "source": [
    "cm2 = metrics.confusion_matrix(Y_test_2, Y_pred_qda2) # confusion matrix\n",
    "(cm2[1,0]+cm2[0,1]) / cm2.sum()"
   ]
  },
  {
   "cell_type": "markdown",
   "id": "5cc387c7-2dac-4d1d-b2fe-1ec5a6fd7b86",
   "metadata": {},
   "source": [
    "------"
   ]
  },
  {
   "cell_type": "code",
   "execution_count": 404,
   "id": "a750ae61-bfca-4f4a-93fb-4b55b732519b",
   "metadata": {},
   "outputs": [],
   "source": [
    "kfold_ad3_test = ad3\n",
    "kfold_ad3_train=pd.concat([ad1,ad5,ad2,ad4])\n",
    "X_train_3 = kfold_ad3_train[['TV','radio','newspaper']]\n",
    "Y_train_3 = kfold_ad3_train['sales']\n",
    "X_test_3 = kfold_ad3_test[['TV','radio','newspaper']]\n",
    "Y_test_3 = kfold_ad3_test['sales']\n",
    "X_train_3,X_test_3,Y_train_3,Y_test_3=train_test_split(X,Y,test_size=0.5,random_state=0)"
   ]
  },
  {
   "cell_type": "code",
   "execution_count": 405,
   "id": "4286d166-4239-4b7f-bc41-bc026a4fe63b",
   "metadata": {},
   "outputs": [
    {
     "data": {
      "text/plain": [
       "array([[20,  5],\n",
       "       [ 4, 71]], dtype=int64)"
      ]
     },
     "execution_count": 405,
     "metadata": {},
     "output_type": "execute_result"
    }
   ],
   "source": [
    "model_qda = QuadraticDiscriminantAnalysis()\n",
    "model_qda2 = model_qda.fit(X_train_3,Y_train_3)\n",
    "Y_pred_qda3 =model_qda2.predict(X_test_3)\n",
    "metrics.confusion_matrix(Y_test_3, Y_pred_qda3)"
   ]
  },
  {
   "cell_type": "code",
   "execution_count": 406,
   "id": "b5a72aea-0b6b-43dd-8617-47014ee4fa2b",
   "metadata": {},
   "outputs": [
    {
     "data": {
      "text/plain": [
       "0.09"
      ]
     },
     "execution_count": 406,
     "metadata": {},
     "output_type": "execute_result"
    }
   ],
   "source": [
    "cm3 = metrics.confusion_matrix(Y_test_3, Y_pred_qda3) # confusion matrix\n",
    "(cm3[1,0]+cm3[0,1]) / cm3.sum()"
   ]
  },
  {
   "cell_type": "markdown",
   "id": "601d3108-0e40-42e4-bb5d-c1f2cc8fbc6e",
   "metadata": {},
   "source": [
    "-----"
   ]
  },
  {
   "cell_type": "code",
   "execution_count": 407,
   "id": "ffee6d58-38cd-4628-aac3-bd0d37e524fb",
   "metadata": {},
   "outputs": [],
   "source": [
    "kfold_ad4_test = ad4\n",
    "kfold_ad4_train=pd.concat([ad1,ad5,ad2,ad3])\n",
    "X_train_4= kfold_ad4_train[['TV','radio','newspaper']]\n",
    "Y_train_4 = kfold_ad4_train['sales']\n",
    "X_test_4 = kfold_ad4_test[['TV','radio','newspaper']]\n",
    "Y_test_4 = kfold_ad4_test['sales']\n",
    "X_train_4,X_test_4,Y_train_4,Y_test_4=train_test_split(X,Y,test_size=0.5,random_state=0)"
   ]
  },
  {
   "cell_type": "code",
   "execution_count": 409,
   "id": "f7ce7369-11d2-490f-91da-2eadd8c52b44",
   "metadata": {},
   "outputs": [
    {
     "data": {
      "text/plain": [
       "array([[20,  5],\n",
       "       [ 4, 71]], dtype=int64)"
      ]
     },
     "execution_count": 409,
     "metadata": {},
     "output_type": "execute_result"
    }
   ],
   "source": [
    "model_qda = QuadraticDiscriminantAnalysis()\n",
    "model_qda2 = model_qda.fit(X_train_4,Y_train_4)\n",
    "Y_pred_qda4 =model_qda2.predict(X_test_4)\n",
    "metrics.confusion_matrix(Y_test_4, Y_pred_qda4)"
   ]
  },
  {
   "cell_type": "code",
   "execution_count": 410,
   "id": "f4216fe9-91d3-4459-8c43-d9131e978728",
   "metadata": {},
   "outputs": [
    {
     "data": {
      "text/plain": [
       "0.09"
      ]
     },
     "execution_count": 410,
     "metadata": {},
     "output_type": "execute_result"
    }
   ],
   "source": [
    "cm4 = metrics.confusion_matrix(Y_test_4, Y_pred_qda4) # confusion matrix\n",
    "(cm4[1,0]+cm4[0,1]) / cm4.sum()"
   ]
  },
  {
   "cell_type": "markdown",
   "id": "6f462603-7c7a-4e16-838f-b68a24cabed9",
   "metadata": {},
   "source": [
    "---"
   ]
  },
  {
   "cell_type": "code",
   "execution_count": 411,
   "id": "5f9ce786-2533-4a85-ab45-de1af874d2b0",
   "metadata": {},
   "outputs": [],
   "source": [
    "kfold_ad5_test = ad5\n",
    "kfold_ad5_train=pd.concat([ad1,ad4,ad2,ad3])\n",
    "X_train_5= kfold_ad5_train[['TV','radio','newspaper']]\n",
    "Y_train_5 = kfold_ad5_train['sales']\n",
    "X_test_5 = kfold_ad5_test[['TV','radio','newspaper']]\n",
    "Y_test_5 = kfold_ad5_test['sales']\n",
    "X_train_5,X_test_5,Y_train_5,Y_test_5=train_test_split(X,Y,test_size=0.5,random_state=0)"
   ]
  },
  {
   "cell_type": "code",
   "execution_count": 412,
   "id": "5af0dfc6-4b8d-48b8-93f0-98abe3f7829b",
   "metadata": {},
   "outputs": [
    {
     "data": {
      "text/plain": [
       "array([[20,  5],\n",
       "       [ 4, 71]], dtype=int64)"
      ]
     },
     "execution_count": 412,
     "metadata": {},
     "output_type": "execute_result"
    }
   ],
   "source": [
    "model_qda = QuadraticDiscriminantAnalysis()\n",
    "model_qda2 = model_qda.fit(X_train_5,Y_train_5)\n",
    "Y_pred_qda5 =model_qda2.predict(X_test_5)\n",
    "metrics.confusion_matrix(Y_test_5, Y_pred_qda5)"
   ]
  },
  {
   "cell_type": "code",
   "execution_count": 413,
   "id": "d736c3df-2137-4f8a-9dc7-84f80d0d9861",
   "metadata": {},
   "outputs": [
    {
     "data": {
      "text/plain": [
       "0.09"
      ]
     },
     "execution_count": 413,
     "metadata": {},
     "output_type": "execute_result"
    }
   ],
   "source": [
    "cm5 = metrics.confusion_matrix(Y_test_5, Y_pred_qda5) # confusion matrix\n",
    "(cm5[1,0]+cm5[0,1]) / cm5.sum()"
   ]
  },
  {
   "cell_type": "markdown",
   "id": "2ff9369d-d539-4908-ac55-06c8123ce4a5",
   "metadata": {},
   "source": [
    "#### qda 5-fold의 평균은 0.09이다."
   ]
  },
  {
   "cell_type": "markdown",
   "id": "ee840cc2-871d-4730-a095-57ecbba6648a",
   "metadata": {},
   "source": [
    "----"
   ]
  },
  {
   "cell_type": "markdown",
   "id": "4f84b899-c1ee-4415-9513-3dd6c5df4762",
   "metadata": {},
   "source": [
    "## knn"
   ]
  },
  {
   "cell_type": "code",
   "execution_count": 421,
   "id": "996d7919-e102-4fd3-8f25-aec75fde587f",
   "metadata": {},
   "outputs": [],
   "source": [
    "kfold_ad1_test = ad1\n",
    "kfold_ad1_train=pd.concat([ad5,ad2,ad3,ad4])\n",
    "X_train_1 = kfold_ad1_train[['TV','radio','newspaper']]\n",
    "Y_train_1 = kfold_ad1_train['sales']\n",
    "X_test_1 = kfold_ad1_test[['TV','radio','newspaper']]\n",
    "Y_test_1 = kfold_ad1_test['sales']\n",
    "X_train_1,X_test_1,Y_train_1,Y_test_1=train_test_split(X,Y,test_size=0.5,random_state=0)"
   ]
  },
  {
   "cell_type": "code",
   "execution_count": 422,
   "id": "63ada6dc-08e7-4140-9028-2ac99379fbc1",
   "metadata": {},
   "outputs": [
    {
     "data": {
      "text/plain": [
       "array([[ 0, 25],\n",
       "       [18, 57]], dtype=int64)"
      ]
     },
     "execution_count": 422,
     "metadata": {},
     "output_type": "execute_result"
    }
   ],
   "source": [
    "model_knn = KNeighborsClassifier(n_neighbors=5)\n",
    "model_knn.fit(X_train_1, Y_test_1)\n",
    "Y_pred_knn =model_knn.predict(X_test_1)\n",
    "metrics.confusion_matrix(Y_test_1, Y_pred_knn)"
   ]
  },
  {
   "cell_type": "code",
   "execution_count": 425,
   "id": "e387dee1-bb41-4f06-80fe-232d91c1e157",
   "metadata": {},
   "outputs": [
    {
     "data": {
      "text/plain": [
       "0.43"
      ]
     },
     "execution_count": 425,
     "metadata": {},
     "output_type": "execute_result"
    }
   ],
   "source": [
    "cm1 = metrics.confusion_matrix(Y_test_1, Y_pred_knn) # confusion matrix\n",
    "(cm1[1,0]+cm1[0,1]) / cm1.sum()"
   ]
  },
  {
   "cell_type": "markdown",
   "id": "b93f1825-b475-4fd5-96c3-f6959b210c7e",
   "metadata": {},
   "source": [
    "----"
   ]
  },
  {
   "cell_type": "code",
   "execution_count": 426,
   "id": "0c758f6a-c6ed-4db4-aafc-e56bb2057b79",
   "metadata": {},
   "outputs": [],
   "source": [
    "kfold_ad2_test = ad2\n",
    "kfold_ad2_train=pd.concat([ad5,ad1,ad3,ad4])\n",
    "X_train_2 = kfold_ad2_train[['TV','radio','newspaper']]\n",
    "Y_train_2 = kfold_ad2_train['sales']\n",
    "X_test_2 = kfold_ad2_test[['TV','radio','newspaper']]\n",
    "Y_test_2 = kfold_ad2_test['sales']\n",
    "X_train_2,X_test_2,Y_train_2,Y_test_2=train_test_split(X,Y,test_size=0.5,random_state=0)"
   ]
  },
  {
   "cell_type": "code",
   "execution_count": 428,
   "id": "283cf321-e7d1-40fc-b96b-189300ad7182",
   "metadata": {},
   "outputs": [
    {
     "data": {
      "text/plain": [
       "array([[ 0, 25],\n",
       "       [18, 57]], dtype=int64)"
      ]
     },
     "execution_count": 428,
     "metadata": {},
     "output_type": "execute_result"
    }
   ],
   "source": [
    "model_knn = KNeighborsClassifier(n_neighbors=5)\n",
    "model_knn.fit(X_train_2, Y_test_2)\n",
    "Y_pred_knn2 =model_knn.predict(X_test_2)\n",
    "metrics.confusion_matrix(Y_test_2, Y_pred_knn2)"
   ]
  },
  {
   "cell_type": "code",
   "execution_count": 429,
   "id": "77f27fbe-e587-4ccb-b482-2769e31a3f75",
   "metadata": {},
   "outputs": [
    {
     "data": {
      "text/plain": [
       "0.43"
      ]
     },
     "execution_count": 429,
     "metadata": {},
     "output_type": "execute_result"
    }
   ],
   "source": [
    "cm2 = metrics.confusion_matrix(Y_test_2, Y_pred_knn2) # confusion matrix\n",
    "(cm2[1,0]+cm2[0,1]) / cm2.sum()"
   ]
  },
  {
   "cell_type": "markdown",
   "id": "c5f70250-1ce2-43a5-9652-f7800dead947",
   "metadata": {},
   "source": [
    "-----"
   ]
  },
  {
   "cell_type": "code",
   "execution_count": 430,
   "id": "748db6a6-7aad-4c48-8049-ac76e650b9c1",
   "metadata": {},
   "outputs": [],
   "source": [
    "kfold_ad3_test = ad3\n",
    "kfold_ad3_train=pd.concat([ad5,ad1,ad2,ad4])\n",
    "X_train_3 = kfold_ad3_train[['TV','radio','newspaper']]\n",
    "Y_train_3 = kfold_ad3_train['sales']\n",
    "X_test_3 = kfold_ad3_test[['TV','radio','newspaper']]\n",
    "Y_test_3 = kfold_ad3_test['sales']\n",
    "X_train_3,X_test_3,Y_train_3,Y_test_3=train_test_split(X,Y,test_size=0.5,random_state=0)"
   ]
  },
  {
   "cell_type": "code",
   "execution_count": 431,
   "id": "97487b33-2456-4a24-b360-e18bc611e08d",
   "metadata": {},
   "outputs": [
    {
     "data": {
      "text/plain": [
       "array([[ 0, 25],\n",
       "       [18, 57]], dtype=int64)"
      ]
     },
     "execution_count": 431,
     "metadata": {},
     "output_type": "execute_result"
    }
   ],
   "source": [
    "model_knn = KNeighborsClassifier(n_neighbors=5)\n",
    "model_knn.fit(X_train_3, Y_test_3)\n",
    "Y_pred_knn3 =model_knn.predict(X_test_3)\n",
    "metrics.confusion_matrix(Y_test_3, Y_pred_knn3)"
   ]
  },
  {
   "cell_type": "code",
   "execution_count": 432,
   "id": "4b0a21f3-100b-4d7e-ad1a-82e7318ff521",
   "metadata": {},
   "outputs": [
    {
     "data": {
      "text/plain": [
       "0.43"
      ]
     },
     "execution_count": 432,
     "metadata": {},
     "output_type": "execute_result"
    }
   ],
   "source": [
    "cm3 = metrics.confusion_matrix(Y_test_3, Y_pred_knn3) # confusion matrix\n",
    "(cm3[1,0]+cm3[0,1]) / cm3.sum()"
   ]
  },
  {
   "cell_type": "markdown",
   "id": "24ae4e7a-6315-4bb8-87b9-d94c484e5f4b",
   "metadata": {},
   "source": [
    "----"
   ]
  },
  {
   "cell_type": "code",
   "execution_count": 434,
   "id": "2ccbf4ee-7f9b-4947-b52d-0ef382e9bb9f",
   "metadata": {},
   "outputs": [],
   "source": [
    "kfold_ad4_test = ad4\n",
    "kfold_ad4_train=pd.concat([ad5,ad1,ad2,ad3])\n",
    "X_train_4 = kfold_ad4_train[['TV','radio','newspaper']]\n",
    "Y_train_4 = kfold_ad4_train['sales']\n",
    "X_test_4 = kfold_ad4_test[['TV','radio','newspaper']]\n",
    "Y_test_4 = kfold_ad4_test['sales']\n",
    "X_train_4,X_test_4,Y_train_4,Y_test_4=train_test_split(X,Y,test_size=0.5,random_state=0)"
   ]
  },
  {
   "cell_type": "code",
   "execution_count": 435,
   "id": "273c8d66-3f60-499e-8ecd-ace05aca6a9c",
   "metadata": {},
   "outputs": [
    {
     "data": {
      "text/plain": [
       "array([[ 0, 25],\n",
       "       [18, 57]], dtype=int64)"
      ]
     },
     "execution_count": 435,
     "metadata": {},
     "output_type": "execute_result"
    }
   ],
   "source": [
    "model_knn = KNeighborsClassifier(n_neighbors=5)\n",
    "model_knn.fit(X_train_4, Y_test_4)\n",
    "Y_pred_knn4 =model_knn.predict(X_test_4)\n",
    "metrics.confusion_matrix(Y_test_4, Y_pred_knn4)"
   ]
  },
  {
   "cell_type": "code",
   "execution_count": 436,
   "id": "29af3162-cd87-40b0-8911-a012c78e0b52",
   "metadata": {},
   "outputs": [
    {
     "data": {
      "text/plain": [
       "0.43"
      ]
     },
     "execution_count": 436,
     "metadata": {},
     "output_type": "execute_result"
    }
   ],
   "source": [
    "cm4 = metrics.confusion_matrix(Y_test_4, Y_pred_knn4) # confusion matrix\n",
    "(cm4[1,0]+cm4[0,1]) / cm4.sum()"
   ]
  },
  {
   "cell_type": "markdown",
   "id": "00a4ebef-c1c6-4ffd-8254-119a312a17d7",
   "metadata": {},
   "source": [
    "----"
   ]
  },
  {
   "cell_type": "code",
   "execution_count": 437,
   "id": "64b1b3e0-ef09-4cc6-8084-5a15714dbfe0",
   "metadata": {},
   "outputs": [],
   "source": [
    "kfold_ad5_test = ad5\n",
    "kfold_ad5_train=pd.concat([ad4,ad1,ad2,ad3])\n",
    "X_train_5 = kfold_ad5_train[['TV','radio','newspaper']]\n",
    "Y_train_5 = kfold_ad5_train['sales']\n",
    "X_test_5 = kfold_ad5_test[['TV','radio','newspaper']]\n",
    "Y_test_5 = kfold_ad5_test['sales']\n",
    "X_train_5,X_test_5,Y_train_5,Y_test_5=train_test_split(X,Y,test_size=0.5,random_state=0)"
   ]
  },
  {
   "cell_type": "code",
   "execution_count": 438,
   "id": "61204c11-e6c3-49aa-bf29-9360d5b3b385",
   "metadata": {},
   "outputs": [
    {
     "data": {
      "text/plain": [
       "array([[ 0, 25],\n",
       "       [18, 57]], dtype=int64)"
      ]
     },
     "execution_count": 438,
     "metadata": {},
     "output_type": "execute_result"
    }
   ],
   "source": [
    "model_knn = KNeighborsClassifier(n_neighbors=5)\n",
    "model_knn.fit(X_train_5, Y_test_5)\n",
    "Y_pred_knn5 =model_knn.predict(X_test_5)\n",
    "metrics.confusion_matrix(Y_test_5, Y_pred_knn5)"
   ]
  },
  {
   "cell_type": "code",
   "execution_count": 439,
   "id": "468441ef-765a-42b9-a059-ea41487b3252",
   "metadata": {},
   "outputs": [
    {
     "data": {
      "text/plain": [
       "0.43"
      ]
     },
     "execution_count": 439,
     "metadata": {},
     "output_type": "execute_result"
    }
   ],
   "source": [
    "cm5= metrics.confusion_matrix(Y_test_5, Y_pred_knn5) # confusion matrix\n",
    "(cm5[1,0]+cm5[0,1]) / cm5.sum()"
   ]
  },
  {
   "cell_type": "markdown",
   "id": "69a997ea-201f-4e3f-92c8-4875ef0f091d",
   "metadata": {},
   "source": [
    "#### qda 5-fold의 평균은 0.43이다"
   ]
  },
  {
   "cell_type": "markdown",
   "id": "b04226aa-1011-4441-8916-7f49105e9ec8",
   "metadata": {},
   "source": [
    "----"
   ]
  },
  {
   "cell_type": "code",
   "execution_count": null,
   "id": "01932cc4-b2ca-47f9-82ff-63a4fba1b0a1",
   "metadata": {},
   "outputs": [],
   "source": []
  },
  {
   "cell_type": "code",
   "execution_count": 513,
   "id": "2e65cc00-fd5a-44ef-ac18-f2e90130d8ac",
   "metadata": {},
   "outputs": [
    {
     "name": "stdout",
     "output_type": "stream",
     "text": [
      "[-21.16756665]\n",
      "[[ 0.2054616   0.39803989 -0.00823107]]\n"
     ]
    }
   ],
   "source": [
    "model1 = LogisticRegression()   # model instance setup\n",
    "model2 = model1.fit(X,Y)      # model fitting to data\n",
    "print(model2.intercept_)\n",
    "print(model2.coef_)"
   ]
  },
  {
   "cell_type": "code",
   "execution_count": 514,
   "id": "4a914723-4bc8-4f8b-b703-f530b9578e94",
   "metadata": {},
   "outputs": [],
   "source": [
    "from sklearn import metrics\n",
    "Y_pred = model2.predict(X)"
   ]
  },
  {
   "cell_type": "code",
   "execution_count": 515,
   "id": "30668b6b-4f33-4902-aaf4-54b5da6d8a0f",
   "metadata": {},
   "outputs": [
    {
     "data": {
      "text/plain": [
       "array([[ 42,   3],\n",
       "       [  3, 152]], dtype=int64)"
      ]
     },
     "execution_count": 515,
     "metadata": {},
     "output_type": "execute_result"
    }
   ],
   "source": [
    "cm = metrics.confusion_matrix(Y, Y_pred) # confusion matrix\n",
    "cm"
   ]
  },
  {
   "cell_type": "code",
   "execution_count": 517,
   "id": "c778275d-3b95-49f9-b32c-1942faa1ce53",
   "metadata": {},
   "outputs": [
    {
     "data": {
      "text/html": [
       "<div>\n",
       "<style scoped>\n",
       "    .dataframe tbody tr th:only-of-type {\n",
       "        vertical-align: middle;\n",
       "    }\n",
       "\n",
       "    .dataframe tbody tr th {\n",
       "        vertical-align: top;\n",
       "    }\n",
       "\n",
       "    .dataframe thead th {\n",
       "        text-align: right;\n",
       "    }\n",
       "</style>\n",
       "<table border=\"1\" class=\"dataframe\">\n",
       "  <thead>\n",
       "    <tr style=\"text-align: right;\">\n",
       "      <th>col_0</th>\n",
       "      <th>0</th>\n",
       "      <th>1</th>\n",
       "    </tr>\n",
       "    <tr>\n",
       "      <th>sales</th>\n",
       "      <th></th>\n",
       "      <th></th>\n",
       "    </tr>\n",
       "  </thead>\n",
       "  <tbody>\n",
       "    <tr>\n",
       "      <th>0</th>\n",
       "      <td>42</td>\n",
       "      <td>3</td>\n",
       "    </tr>\n",
       "    <tr>\n",
       "      <th>1</th>\n",
       "      <td>3</td>\n",
       "      <td>152</td>\n",
       "    </tr>\n",
       "  </tbody>\n",
       "</table>\n",
       "</div>"
      ],
      "text/plain": [
       "col_0   0    1\n",
       "sales         \n",
       "0      42    3\n",
       "1       3  152"
      ]
     },
     "execution_count": 517,
     "metadata": {},
     "output_type": "execute_result"
    }
   ],
   "source": [
    "pd.crosstab(Y,Y_pred)"
   ]
  },
  {
   "cell_type": "code",
   "execution_count": 518,
   "id": "f05a5e29-d0fa-4404-b575-4479e36aad32",
   "metadata": {},
   "outputs": [
    {
     "data": {
      "text/plain": [
       "0.9806451612903225"
      ]
     },
     "execution_count": 518,
     "metadata": {},
     "output_type": "execute_result"
    }
   ],
   "source": [
    "sum((Y_pred == 1) & (Y==1)) / sum(Y == 1) # sensitivity"
   ]
  },
  {
   "cell_type": "code",
   "execution_count": 519,
   "id": "604911ba-a10c-410b-93e2-439da83d0d24",
   "metadata": {},
   "outputs": [
    {
     "data": {
      "text/plain": [
       "0.9333333333333333"
      ]
     },
     "execution_count": 519,
     "metadata": {},
     "output_type": "execute_result"
    }
   ],
   "source": [
    "sum((Y_pred == 0) & (Y==0)) / sum(Y == 0) # specificity"
   ]
  },
  {
   "cell_type": "code",
   "execution_count": null,
   "id": "b541ef45-d4d7-4eea-a1c6-ab9fc82748f2",
   "metadata": {},
   "outputs": [],
   "source": []
  }
 ],
 "metadata": {
  "kernelspec": {
   "display_name": "Python 3",
   "language": "python",
   "name": "python3"
  },
  "language_info": {
   "codemirror_mode": {
    "name": "ipython",
    "version": 3
   },
   "file_extension": ".py",
   "mimetype": "text/x-python",
   "name": "python",
   "nbconvert_exporter": "python",
   "pygments_lexer": "ipython3",
   "version": "3.8.8"
  }
 },
 "nbformat": 4,
 "nbformat_minor": 5
}
