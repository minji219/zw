{
 "cells": [
  {
   "cell_type": "markdown",
   "id": "08ea9bba-8860-4966-84ef-aa24325f3858",
   "metadata": {},
   "source": [
    "# (A1) 깃허브와 fastpages를 이용하여 블로그 개설하기\n",
    "> Awesome summary\n",
    "\n",
    "- toc:true\n",
    "- branch: master\n",
    "- badges: true\n",
    "- comments: true\n",
    "- author: 최규빈"
   ]
  },
  {
   "cell_type": "markdown",
   "id": "8e932eaf-b14f-4a53-bbc1-d4c0dda17d1b",
   "metadata": {},
   "source": [
    "### About this doc \n",
    "\n",
    "`-` 본 포스트는 2021년 1학기 Python 입문 강의내용중 일부를 업로드 하였음. \n",
    "\n",
    "`-` Github, fastpages를 사용하여 블로그를 개설하고 관리하는 방법에 대한 설명임. "
   ]
  },
  {
   "cell_type": "markdown",
   "id": "2dc81189-e55d-4bcd-a889-df210efba812",
   "metadata": {},
   "source": [
    "> youtube: https://www.youtube.com/playlist?list=PLQqh36zP38-xI1-mlPSueDciioHswslU9"
   ]
  }
 ],
 "metadata": {
  "kernelspec": {
   "display_name": "Python 3 (ipykernel)",
   "language": "python",
   "name": "python3"
  },
  "language_info": {
   "codemirror_mode": {
    "name": "ipython",
    "version": 3
   },
   "file_extension": ".py",
   "mimetype": "text/x-python",
   "name": "python",
   "nbconvert_exporter": "python",
   "pygments_lexer": "ipython3",
   "version": "3.8.11"
  }
 },
 "nbformat": 4,
 "nbformat_minor": 5
}
