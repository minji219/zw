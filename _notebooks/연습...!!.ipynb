{
 "cells": [
  {
   "cell_type": "markdown",
   "id": "5505ba34-823a-44b4-bba0-e9cdb9feae27",
   "metadata": {},
   "source": [
    "## lambda와 map"
   ]
  },
  {
   "cell_type": "code",
   "execution_count": 1,
   "id": "ba2acbcc-da11-4495-a014-8b21499dfa7b",
   "metadata": {},
   "outputs": [],
   "source": [
    "f = lambda x,y,z : x+y+z ##lambda입력:출력"
   ]
  },
  {
   "cell_type": "code",
   "execution_count": 2,
   "id": "cfa3f01b-c69e-42b3-ad6d-c4b487e2efc2",
   "metadata": {},
   "outputs": [
    {
     "data": {
      "text/plain": [
       "12"
      ]
     },
     "execution_count": 2,
     "metadata": {},
     "output_type": "execute_result"
    }
   ],
   "source": [
    "f(3,4,5)"
   ]
  },
  {
   "cell_type": "markdown",
   "id": "6ba53291-cd9d-4d66-b885-70e676772d05",
   "metadata": {},
   "source": [
    "아하"
   ]
  },
  {
   "cell_type": "code",
   "execution_count": 28,
   "id": "b4bb025c-d0ff-48a4-8519-8c0c6334b0c4",
   "metadata": {},
   "outputs": [],
   "source": [
    "x = (lambda a='n', b='ct', c='jw': a+b)  #근데 이건 괄호왜침"
   ]
  },
  {
   "cell_type": "code",
   "execution_count": 29,
   "id": "924c0915-40dd-4710-afef-16536f165918",
   "metadata": {},
   "outputs": [
    {
     "data": {
      "text/plain": [
       "'lovect'"
      ]
     },
     "execution_count": 29,
     "metadata": {},
     "output_type": "execute_result"
    }
   ],
   "source": [
    "x('love') #앞에 글자가 바뀌었다"
   ]
  },
  {
   "cell_type": "markdown",
   "id": "15468045-7491-48b6-bd6b-22ca64a081d1",
   "metadata": {},
   "source": [
    "#### 람다들의 리스트 기능"
   ]
  },
  {
   "cell_type": "code",
   "execution_count": 8,
   "id": "22afa72a-9d87-45fa-9ac0-158d35890eaf",
   "metadata": {},
   "outputs": [],
   "source": [
    "l=[lambda x: x**2, lambda x:x**3, lambda x: x**4, lambda x: x**5]"
   ]
  },
  {
   "cell_type": "markdown",
   "id": "f1b62bcd-5a39-4efc-acbc-e6e6df7a1ce7",
   "metadata": {},
   "source": [
    "입력 : 출력 형태임"
   ]
  },
  {
   "cell_type": "code",
   "execution_count": 9,
   "id": "23531c48-720b-4d7d-a779-52dfad1bb4f6",
   "metadata": {},
   "outputs": [
    {
     "name": "stdout",
     "output_type": "stream",
     "text": [
      "4\n",
      "8\n",
      "16\n",
      "32\n"
     ]
    }
   ],
   "source": [
    "for f in l:       #for 문 사용해서 하기 \n",
    "    print(f(2))"
   ]
  },
  {
   "cell_type": "code",
   "execution_count": 10,
   "id": "996ea971-56e8-4c7c-83b9-0939a936d182",
   "metadata": {},
   "outputs": [
    {
     "name": "stdout",
     "output_type": "stream",
     "text": [
      "9\n",
      "27\n",
      "81\n",
      "243\n"
     ]
    }
   ],
   "source": [
    "for f in l:       #for 문 사용해서 하기 \n",
    "    print(f(3))"
   ]
  },
  {
   "cell_type": "markdown",
   "id": "049a7510-f615-44a3-aae4-71dc19efa48e",
   "metadata": {},
   "source": [
    "### 람다들의 딕셔너리 기능 "
   ]
  },
  {
   "cell_type": "code",
   "execution_count": 11,
   "id": "2a3e146d-ea65-4c0b-b0c5-3c1547e42734",
   "metadata": {},
   "outputs": [],
   "source": [
    "hihi={'f1': (lambda x: x+1), 'f2': (lambda x: x+219), 'f3': (lambda x: x+77)}"
   ]
  },
  {
   "cell_type": "code",
   "execution_count": 12,
   "id": "86b32f89-2438-4651-931a-810d868ef3b1",
   "metadata": {},
   "outputs": [
    {
     "data": {
      "text/plain": [
       "(2, 221, 81)"
      ]
     },
     "execution_count": 12,
     "metadata": {},
     "output_type": "execute_result"
    }
   ],
   "source": [
    "hihi['f1'](1), hihi['f2'](2), hihi['f3'](4)"
   ]
  },
  {
   "cell_type": "markdown",
   "id": "259f2465-174d-4f4c-9574-d1df74e394d4",
   "metadata": {},
   "source": [
    "오"
   ]
  },
  {
   "cell_type": "code",
   "execution_count": 13,
   "id": "9d38dce7-b5e4-4c11-b3d0-fc39fb581441",
   "metadata": {},
   "outputs": [
    {
     "data": {
      "text/plain": [
       "True"
      ]
     },
     "execution_count": 13,
     "metadata": {},
     "output_type": "execute_result"
    }
   ],
   "source": [
    "'c'<'d'"
   ]
  },
  {
   "cell_type": "markdown",
   "id": "f61cbc9a-212a-4447-8ff0-51b2f9e35731",
   "metadata": {},
   "source": [
    "개똑똑"
   ]
  },
  {
   "cell_type": "code",
   "execution_count": 15,
   "id": "a06e6c57-4842-4419-90e9-e1ba312978d8",
   "metadata": {},
   "outputs": [
    {
     "data": {
      "text/plain": [
       "False"
      ]
     },
     "execution_count": 15,
     "metadata": {},
     "output_type": "execute_result"
    }
   ],
   "source": [
    "'d'<'c' #wow"
   ]
  },
  {
   "cell_type": "markdown",
   "id": "23867b8c-e570-41eb-9f1c-8de4ff0c3cb0",
   "metadata": {},
   "source": [
    "### 문자열의 대소비교"
   ]
  },
  {
   "cell_type": "code",
   "execution_count": 16,
   "id": "45fc8bfc-f80d-4d3e-aa58-717f74fd2b46",
   "metadata": {},
   "outputs": [],
   "source": [
    "hello= lambda x,y: x if x<y else y #x랑 y를 넣는데 만약 x가 y보다 작으면 x가 나오게 하고 아님 y가 나와라?"
   ]
  },
  {
   "cell_type": "code",
   "execution_count": 21,
   "id": "25d16dfd-fbdb-4a9e-aa46-fbae5ee9f03c",
   "metadata": {},
   "outputs": [
    {
     "data": {
      "text/plain": [
       "'c'"
      ]
     },
     "execution_count": 21,
     "metadata": {},
     "output_type": "execute_result"
    }
   ],
   "source": [
    "hello('d','c')"
   ]
  },
  {
   "cell_type": "markdown",
   "id": "3259b558-b559-42fd-b869-1c9727a875b5",
   "metadata": {},
   "source": [
    "#### lambda expression을 return가능"
   ]
  },
  {
   "cell_type": "code",
   "execution_count": 22,
   "id": "b87b14ec-1f8e-4560-911b-9b82b2a45f56",
   "metadata": {},
   "outputs": [],
   "source": [
    "def action(x):\n",
    "    return(lambda y: x+y)    #lambda는   입력:출력 형태"
   ]
  },
  {
   "cell_type": "code",
   "execution_count": 23,
   "id": "5f805674-8482-42ed-8594-9205f8295b69",
   "metadata": {},
   "outputs": [],
   "source": [
    "act= action(99)  #99+y 임 \n",
    "act2 =action(98)"
   ]
  },
  {
   "cell_type": "code",
   "execution_count": 32,
   "id": "6f1191ed-4f29-4e63-93d3-c457f7fa150e",
   "metadata": {},
   "outputs": [
    {
     "name": "stdout",
     "output_type": "stream",
     "text": [
      "101\n",
      "100\n"
     ]
    }
   ],
   "source": [
    "print(act(2))\n",
    "print(act2(2))"
   ]
  },
  {
   "cell_type": "markdown",
   "id": "ab29fb44-d3d1-4773-94e2-9b4b443816c4",
   "metadata": {},
   "source": [
    "### map사용법"
   ]
  },
  {
   "cell_type": "code",
   "execution_count": 37,
   "id": "5bb9e2e4-82f3-4769-8203-066c8f5d30b0",
   "metadata": {},
   "outputs": [],
   "source": [
    "def inc(x): return x+1  "
   ]
  },
  {
   "cell_type": "code",
   "execution_count": 40,
   "id": "4b78ef2c-48d3-4330-a9a4-a279e5410c21",
   "metadata": {},
   "outputs": [
    {
     "data": {
      "text/plain": [
       "<map at 0x24a31a39460>"
      ]
     },
     "execution_count": 40,
     "metadata": {},
     "output_type": "execute_result"
    }
   ],
   "source": [
    "map(inc,[1,2,3,4]) #object만들어짐"
   ]
  },
  {
   "cell_type": "code",
   "execution_count": 42,
   "id": "1867f6ff-4317-453b-aeae-fd16e3683c85",
   "metadata": {},
   "outputs": [
    {
     "data": {
      "text/plain": [
       "[2, 3, 4, 5]"
      ]
     },
     "execution_count": 42,
     "metadata": {},
     "output_type": "execute_result"
    }
   ],
   "source": [
    "list(map(inc,[1,2,3,4])) #list화"
   ]
  },
  {
   "cell_type": "markdown",
   "id": "9440898d-43f3-4ee1-8b01-9bb0b0186d6b",
   "metadata": {},
   "source": [
    "내가만든 함수가 각ㅇ 원소에 적용이됨"
   ]
  },
  {
   "cell_type": "code",
   "execution_count": 43,
   "id": "7b18f634-09e1-4ef4-ae80-c7a20145df19",
   "metadata": {},
   "outputs": [
    {
     "data": {
      "text/plain": [
       "[2, 3, 4, 5]"
      ]
     },
     "execution_count": 43,
     "metadata": {},
     "output_type": "execute_result"
    }
   ],
   "source": [
    "list(map(lambda x:x+1,[1,2,3,4]))"
   ]
  },
  {
   "cell_type": "code",
   "execution_count": 45,
   "id": "ed0431d5-3b2b-4617-8bf4-9af6bab3b87f",
   "metadata": {},
   "outputs": [
    {
     "ename": "SyntaxError",
     "evalue": "invalid syntax (<ipython-input-45-941c1cc5d48b>, line 1)",
     "output_type": "error",
     "traceback": [
      "\u001b[1;36m  File \u001b[1;32m\"<ipython-input-45-941c1cc5d48b>\"\u001b[1;36m, line \u001b[1;32m1\u001b[0m\n\u001b[1;33m    list(map(def inc(x): return x+1,[1,2,3,4])) #이건 안됨\u001b[0m\n\u001b[1;37m             ^\u001b[0m\n\u001b[1;31mSyntaxError\u001b[0m\u001b[1;31m:\u001b[0m invalid syntax\n"
     ]
    }
   ],
   "source": [
    "list(map(def inc(x): return x+1,[1,2,3,4])) #이건 안됨"
   ]
  },
  {
   "cell_type": "markdown",
   "id": "f0845b3a-70b8-49c4-8f22-b7e5b41e8ae3",
   "metadata": {},
   "source": [
    "`-` 함수명을 쓰는 자리에 lambda로 표현한 오브젝트 자체를 전달할 수 있다.  그래서 코드가 간단해짐"
   ]
  },
  {
   "cell_type": "markdown",
   "id": "7a84f9f9-c37d-4198-8688-65e41960a3d1",
   "metadata": {},
   "source": [
    "map 쓰고 왼쪽에는 함수이름, lambda표현식, 오른쪽에는 벡터의 형태"
   ]
  },
  {
   "cell_type": "code",
   "execution_count": 48,
   "id": "213d84c7-6503-46f5-a39e-f364df3d0ff7",
   "metadata": {},
   "outputs": [],
   "source": [
    "f=lambda x : 'X' in x #엑스가 엑스에 있는지"
   ]
  },
  {
   "cell_type": "code",
   "execution_count": 54,
   "id": "db530101-bfc6-4ef7-b33f-51a08c6fd122",
   "metadata": {},
   "outputs": [
    {
     "data": {
      "text/plain": [
       "(True, False)"
      ]
     },
     "execution_count": 54,
     "metadata": {},
     "output_type": "execute_result"
    }
   ],
   "source": [
    "f('X1'),f('Y1')"
   ]
  },
  {
   "cell_type": "code",
   "execution_count": 52,
   "id": "07a8e6dd-23fa-4929-91cc-4fedc8078441",
   "metadata": {},
   "outputs": [
    {
     "data": {
      "text/plain": [
       "<map at 0x24a31aef070>"
      ]
     },
     "execution_count": 52,
     "metadata": {},
     "output_type": "execute_result"
    }
   ],
   "source": [
    "map(f,['X1','X2','X3','Y4'])"
   ]
  },
  {
   "cell_type": "code",
   "execution_count": 53,
   "id": "f6f604a7-e940-4a78-9331-821f85b82246",
   "metadata": {},
   "outputs": [
    {
     "data": {
      "text/plain": [
       "[True, True, True, False]"
      ]
     },
     "execution_count": 53,
     "metadata": {},
     "output_type": "execute_result"
    }
   ],
   "source": [
    "list(map(f,['X1','X2','X3','Y4']))"
   ]
  },
  {
   "cell_type": "markdown",
   "id": "3af6e599-f74e-47f5-94be-dcc91dbbb214",
   "metadata": {},
   "source": [
    "(리스트컴프리헨션과 비교)"
   ]
  },
  {
   "cell_type": "code",
   "execution_count": 55,
   "id": "ea9fe0d0-f03b-4d78-ba32-f24de19b539d",
   "metadata": {},
   "outputs": [
    {
     "data": {
      "text/plain": [
       "[True, True, False, False]"
      ]
     },
     "execution_count": 55,
     "metadata": {},
     "output_type": "execute_result"
    }
   ],
   "source": [
    "[f(x) for x in ['X1','X2','Y3','Y4']]"
   ]
  },
  {
   "cell_type": "code",
   "execution_count": 61,
   "id": "a76503ab-2354-48b5-a045-99538b3acbab",
   "metadata": {},
   "outputs": [
    {
     "data": {
      "text/plain": [
       "[1, 2]"
      ]
     },
     "execution_count": 61,
     "metadata": {},
     "output_type": "execute_result"
    }
   ],
   "source": [
    "list(map(pow,[2,2],[0,1])) #2^0,2^1계산  map 사용"
   ]
  },
  {
   "cell_type": "markdown",
   "id": "8061848d-2c60-45c4-a741-80e1fca7b56c",
   "metadata": {},
   "source": [
    "(리스트컴프리헨션과비교)"
   ]
  },
  {
   "cell_type": "code",
   "execution_count": 65,
   "id": "fbf8554f-6173-45de-ba01-be4ec2349872",
   "metadata": {},
   "outputs": [
    {
     "data": {
      "text/plain": [
       "[1, 2]"
      ]
     },
     "execution_count": 65,
     "metadata": {},
     "output_type": "execute_result"
    }
   ],
   "source": [
    "[pow(x,y) for x,y in zip([2,2],[0,1])]  #리스트컴프리헨션사용"
   ]
  },
  {
   "cell_type": "code",
   "execution_count": 63,
   "id": "ae33379b-ef68-489e-8dbc-c2a05e73b5ad",
   "metadata": {},
   "outputs": [
    {
     "data": {
      "text/plain": [
       "<zip at 0x24a31ae9dc0>"
      ]
     },
     "execution_count": 63,
     "metadata": {},
     "output_type": "execute_result"
    }
   ],
   "source": [
    "(zip([2,2],[0,1])) #무언가의 오브젝트가 저장"
   ]
  },
  {
   "cell_type": "code",
   "execution_count": 64,
   "id": "74e8be9d-6f05-415b-bfd7-8604d3625d0f",
   "metadata": {},
   "outputs": [
    {
     "data": {
      "text/plain": [
       "[(2, 0), (2, 1)]"
      ]
     },
     "execution_count": 64,
     "metadata": {},
     "output_type": "execute_result"
    }
   ],
   "source": [
    "list(zip([2,2],[0,1]))"
   ]
  },
  {
   "cell_type": "markdown",
   "id": "64fb43c9-a411-4f43-9c60-b544ae12aa48",
   "metadata": {},
   "source": [
    "[(2, 0), (2, 1)] = zip([2,2],[0,1] 같음"
   ]
  },
  {
   "cell_type": "markdown",
   "id": "ac80b8b5-86e7-42c0-b535-313a3a0b5180",
   "metadata": {},
   "source": [
    "----"
   ]
  },
  {
   "cell_type": "code",
   "execution_count": 67,
   "id": "473dc64a-a08b-482c-abe8-57f7fd57a4f8",
   "metadata": {},
   "outputs": [],
   "source": [
    "l=[lambda x:x+1, lambda x : x+2, lambda x : x+3] # 입력이 x 출력이 x+1 인 함수.."
   ]
  },
  {
   "cell_type": "code",
   "execution_count": 70,
   "id": "e45dcf86-0967-4db0-a296-308cb3175bac",
   "metadata": {},
   "outputs": [
    {
     "ename": "TypeError",
     "evalue": "'list' object is not callable",
     "output_type": "error",
     "traceback": [
      "\u001b[1;31m---------------------------------------------------------------------------\u001b[0m",
      "\u001b[1;31mTypeError\u001b[0m                                 Traceback (most recent call last)",
      "\u001b[1;32m<ipython-input-70-805186c4265a>\u001b[0m in \u001b[0;36m<module>\u001b[1;34m\u001b[0m\n\u001b[1;32m----> 1\u001b[1;33m \u001b[0mlist\u001b[0m\u001b[1;33m(\u001b[0m\u001b[0mmap\u001b[0m\u001b[1;33m(\u001b[0m\u001b[0ml\u001b[0m\u001b[1;33m,\u001b[0m\u001b[1;33m[\u001b[0m\u001b[1;36m100\u001b[0m\u001b[1;33m,\u001b[0m\u001b[1;36m200\u001b[0m\u001b[1;33m,\u001b[0m\u001b[1;36m300\u001b[0m\u001b[1;33m]\u001b[0m\u001b[1;33m)\u001b[0m\u001b[1;33m)\u001b[0m   \u001b[1;31m#이건 안됨, map은 하나의 함수 , 다양한 입력인 경우에만 사용 가능  이건 3:3임\u001b[0m\u001b[1;33m\u001b[0m\u001b[1;33m\u001b[0m\u001b[0m\n\u001b[0m",
      "\u001b[1;31mTypeError\u001b[0m: 'list' object is not callable"
     ]
    }
   ],
   "source": [
    "list(map(l,[100,200,300]))   #이건 안됨, map은 하나의 함수 , 다양한 입력인 경우에만 사용 가능  이건 3:3임"
   ]
  },
  {
   "cell_type": "markdown",
   "id": "5094c117-c004-48c6-bebb-2708e9bedfbc",
   "metadata": {},
   "source": [
    "리스트 컴프리헨션은 다양한 함수 다양한 입력이 가능 ㅎㅎ"
   ]
  },
  {
   "cell_type": "code",
   "execution_count": 72,
   "id": "d56809fd-f902-48b0-a2d0-396e786769c9",
   "metadata": {},
   "outputs": [
    {
     "data": {
      "text/plain": [
       "[101, 202, 303]"
      ]
     },
     "execution_count": 72,
     "metadata": {},
     "output_type": "execute_result"
    }
   ],
   "source": [
    "[l[i](x) for i,x in zip ([0,1,2],[100,200,300])] #i 에 0 이 들어가면 첫번쨰 람다함수튀어나옴 "
   ]
  },
  {
   "cell_type": "markdown",
   "id": "21dcfdc8-dc20-4ffc-bc6e-bc1246f138a0",
   "metadata": {},
   "source": [
    "리스트컴프리헨션과 비교하면 map 이 반복인덱스를 쓰지 않는 장점이 있지만다양한 함수 쓰지 못함, 제약적임"
   ]
  },
  {
   "cell_type": "code",
   "execution_count": null,
   "id": "c16b783a-8bc0-4b6a-ab91-958b6cef2bc5",
   "metadata": {},
   "outputs": [],
   "source": []
  }
 ],
 "metadata": {
  "kernelspec": {
   "display_name": "Python 3",
   "language": "python",
   "name": "python3"
  },
  "language_info": {
   "codemirror_mode": {
    "name": "ipython",
    "version": 3
   },
   "file_extension": ".py",
   "mimetype": "text/x-python",
   "name": "python",
   "nbconvert_exporter": "python",
   "pygments_lexer": "ipython3",
   "version": "3.8.8"
  }
 },
 "nbformat": 4,
 "nbformat_minor": 5
}
