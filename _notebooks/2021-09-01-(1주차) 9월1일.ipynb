{
 "cells": [
  {
   "cell_type": "markdown",
   "id": "08ea9bba-8860-4966-84ef-aa24325f3858",
   "metadata": {
    "tags": []
   },
   "source": [
    "# (1주차) 9월1일 \n",
    "> 데이터시각화소개, 강의소개, 주피터랩 설치 \n",
    "\n",
    "- toc:true\n",
    "- branch: master\n",
    "- badges: true\n",
    "- comments: true\n",
    "- author: 최규빈"
   ]
  },
  {
   "cell_type": "markdown",
   "id": "8e932eaf-b14f-4a53-bbc1-d4c0dda17d1b",
   "metadata": {
    "tags": []
   },
   "source": [
    "### 강의영상 "
   ]
  },
  {
   "cell_type": "markdown",
   "id": "2dc81189-e55d-4bcd-a889-df210efba812",
   "metadata": {},
   "source": [
    "> youtube: https://youtube.com/playlist?list=PLQqh36zP38-zi3eyvzrIZzAAjj1TIAEv-"
   ]
  },
  {
   "cell_type": "markdown",
   "id": "4d40110d-4134-47d5-8275-5d967b91f031",
   "metadata": {},
   "source": [
    "`-` (1/4): 데이터 시각화 과목에 대한 소개 \n",
    "\n",
    "`-` (2/4): 강의안내 (강의계획서, 출석인정 방법, 과제안내, 질문하는 방법 등) \n",
    "\n",
    "`-` (3/4): 윈도우에서 주피터랩 설치하는 방법 <- 파이썬입문(2021) 수강하셨던 학생은 안들으셔도 될것 같아요. \n",
    "\n",
    "`-` (4/4): 주피터랩 최초접속시 토큰설정하는 방법, **과제안내** <- 파이썬입문(2021) 수강하셨던 학생은 안들으셔도 될것 같아요. (과제안내만 들으시면 될것같습니다) "
   ]
  },
  {
   "cell_type": "markdown",
   "id": "4d4aab1e-00a9-4800-99bd-8df7e4c6115a",
   "metadata": {
    "tags": []
   },
   "source": [
    "### 레포트\n",
    "\n",
    "`-` [카카오톡 스샷제출](https://ieilms.jbnu.ac.kr/)"
   ]
  }
 ],
 "metadata": {
  "kernelspec": {
   "display_name": "Python 3 (ipykernel)",
   "language": "python",
   "name": "python3"
  },
  "language_info": {
   "codemirror_mode": {
    "name": "ipython",
    "version": 3
   },
   "file_extension": ".py",
   "mimetype": "text/x-python",
   "name": "python",
   "nbconvert_exporter": "python",
   "pygments_lexer": "ipython3",
   "version": "3.8.11"
  }
 },
 "nbformat": 4,
 "nbformat_minor": 5
}
