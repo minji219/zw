{
 "cells": [
  {
   "cell_type": "code",
   "execution_count": 45,
   "id": "24e242a0-8dee-4e59-a0b5-a46ca9c51470",
   "metadata": {},
   "outputs": [],
   "source": [
    "#hide\n",
    "#options(jupyter.plot_mimetypes=c(\"image/svg+xml\"))\n",
    "options(jupyter.display_mimetypes=c(\"text/html\"))\n",
    "options(jupyter.rich_display=FALSE)\n",
    "options(max.print=1000)"
   ]
  },
  {
   "cell_type": "markdown",
   "id": "f8577af5-1f0b-4cbf-b051-e2ad71aa457b",
   "metadata": {
    "tags": []
   },
   "source": [
    "# (노트) R입문 IF, IF ~ ELSE\n",
    "\n",
    "- toc:true\n",
    "- branch: master\n",
    "- badges: true\n",
    "- comments: true\n",
    "- author: 신록예찬\n",
    "- hide: false\n",
    "- categories: [R]"
   ]
  },
  {
   "cell_type": "markdown",
   "id": "b1e11552-25c9-4c03-93ce-c298bf1ff1e9",
   "metadata": {},
   "source": [
    "### if"
   ]
  },
  {
   "cell_type": "markdown",
   "id": "62803935-127a-4424-8150-f3c03f42438d",
   "metadata": {},
   "source": [
    "`-` 아래와 같이 `if (조건문) 표현식`의 형태로 사용한다. (표현식은 `컴퓨터에게 내리는 명령이다`)"
   ]
  },
  {
   "cell_type": "code",
   "execution_count": 76,
   "id": "b799d578-1c5c-4aa5-82cf-dae2c4ae6d59",
   "metadata": {},
   "outputs": [
    {
     "name": "stdout",
     "output_type": "stream",
     "text": [
      "[1] \"a는 양수\"\n"
     ]
    }
   ],
   "source": [
    "a= 10 \n",
    "if (a>0) print('a는 양수') "
   ]
  },
  {
   "cell_type": "markdown",
   "id": "1341abae-8456-4142-abc7-20c27d717107",
   "metadata": {},
   "source": [
    "`-` space를 임의로 넣어도 상관없다. "
   ]
  },
  {
   "cell_type": "code",
   "execution_count": 77,
   "id": "de089efd-4341-43cf-9afe-34fb7caa967c",
   "metadata": {},
   "outputs": [
    {
     "name": "stdout",
     "output_type": "stream",
     "text": [
      "[1] \"a는 양수\"\n"
     ]
    }
   ],
   "source": [
    "a= 10 \n",
    "if    (a>0)   print('a는 양수') "
   ]
  },
  {
   "cell_type": "markdown",
   "id": "c81036fc-a223-4554-8054-6ed7b5888f3f",
   "metadata": {},
   "source": [
    "`-` enter도 가능하긴함. "
   ]
  },
  {
   "cell_type": "code",
   "execution_count": 78,
   "id": "cc456f66-e6f0-43c3-994f-41ebd928251e",
   "metadata": {},
   "outputs": [
    {
     "name": "stdout",
     "output_type": "stream",
     "text": [
      "[1] \"a는 양수이다\"\n"
     ]
    }
   ],
   "source": [
    "a= 10\n",
    "if (a>0) \n",
    "    print('a는 양수이다') "
   ]
  },
  {
   "cell_type": "code",
   "execution_count": 79,
   "id": "a61797b3-59d3-48cd-814f-bd26e5a5fd34",
   "metadata": {},
   "outputs": [
    {
     "name": "stdout",
     "output_type": "stream",
     "text": [
      "[1] \"a는 양수이다\"\n"
     ]
    }
   ],
   "source": [
    "a= 10\n",
    "if\n",
    "    (a>0) \n",
    "    print('a는 양수이다') "
   ]
  },
  {
   "cell_type": "code",
   "execution_count": 80,
   "id": "cd60dfe2-a9c4-4d51-92e8-812a0a63b4c7",
   "metadata": {},
   "outputs": [
    {
     "name": "stdout",
     "output_type": "stream",
     "text": [
      "[1] \"a는 양수이다\"\n"
     ]
    }
   ],
   "source": [
    "a= 10\n",
    "if\n",
    "    \n",
    "    (a>0) print('a는 양수이다') "
   ]
  },
  {
   "cell_type": "markdown",
   "id": "b059119c-f487-42fb-801b-693e69b19963",
   "metadata": {},
   "source": [
    "`-` 컴퓨터에게 내릴 명령이 2개이상일 경우는 아래와 같이 `{}`을 이용한다."
   ]
  },
  {
   "cell_type": "code",
   "execution_count": 81,
   "id": "aca098d0-691d-4631-ad5d-4d13383f444b",
   "metadata": {
    "tags": []
   },
   "outputs": [],
   "source": [
    "a=-10\n",
    "if (a>0)\n",
    "{\n",
    "    print('a는 양수이다')\n",
    "    print('양수인 a의 값은 아래와 같다')\n",
    "    print(a)\n",
    "}\n",
    "    "
   ]
  },
  {
   "cell_type": "code",
   "execution_count": 82,
   "id": "97a11859-2999-4fce-b340-76449266f365",
   "metadata": {
    "tags": []
   },
   "outputs": [
    {
     "name": "stdout",
     "output_type": "stream",
     "text": [
      "[1] \"a는 양수이다\"\n",
      "[1] \"양수인 a의 값은 아래와 같다\"\n",
      "[1] 10\n"
     ]
    }
   ],
   "source": [
    "a=10 \n",
    "if (a>0)\n",
    "{print('a는 양수이다')\n",
    "print('양수인 a의 값은 아래와 같다')\n",
    "print(a)}    "
   ]
  },
  {
   "cell_type": "code",
   "execution_count": 83,
   "id": "f431a8b2-9201-4dd2-b302-7566edb2758e",
   "metadata": {
    "tags": []
   },
   "outputs": [
    {
     "name": "stdout",
     "output_type": "stream",
     "text": [
      "[1] \"a는 양수이다\"\n",
      "[1] \"양수인 a의 값은 아래와 같다\"\n",
      "[1] 10\n"
     ]
    }
   ],
   "source": [
    "a=10 \n",
    "if (a>0){print('a는 양수이다')\n",
    "print('양수인 a의 값은 아래와 같다')\n",
    "print(a)}    "
   ]
  },
  {
   "cell_type": "code",
   "execution_count": 84,
   "id": "d8dd9613-1185-4320-ba41-18a64d267ad2",
   "metadata": {},
   "outputs": [
    {
     "name": "stdout",
     "output_type": "stream",
     "text": [
      "[1] \"a는 양수이다\"\n",
      "[1] \"양수인 a의 값은 아래와 같다\"\n",
      "[1] 10\n"
     ]
    }
   ],
   "source": [
    "a=10 \n",
    "if (a>0){print('a는 양수이다')\n",
    "print('양수인 a의 값은 아래와 같다')\n",
    "print(a)\n",
    "        \n",
    "        }    "
   ]
  },
  {
   "cell_type": "markdown",
   "id": "cd8cc2b6-8842-4c84-9b5e-a43e50aae9bd",
   "metadata": {},
   "source": [
    "`-` `if (조건문) 표현식`에서 조건문의 자리에는 항상 True, False 중하나가 대입되어야 한다. "
   ]
  },
  {
   "cell_type": "code",
   "execution_count": 85,
   "id": "a9429efe-5641-43e9-a74a-550914242d6c",
   "metadata": {},
   "outputs": [
    {
     "name": "stdout",
     "output_type": "stream",
     "text": [
      "[1] \"조건문이 항상 TRUE이므로 이건 항상실행\"\n"
     ]
    }
   ],
   "source": [
    "if (TRUE) print('조건문이 항상 TRUE이므로 이건 항상실행')"
   ]
  },
  {
   "cell_type": "code",
   "execution_count": 86,
   "id": "88714790-d90b-46dc-98ab-871703a95954",
   "metadata": {},
   "outputs": [],
   "source": [
    "if (FALSE) print('이것은 항상 실행되지 않음. 즉 이메시지는 보이지 않음')"
   ]
  },
  {
   "cell_type": "code",
   "execution_count": 87,
   "id": "f3769b1e-6ca7-49de-8d2f-efb7f6e760ef",
   "metadata": {},
   "outputs": [
    {
     "name": "stdout",
     "output_type": "stream",
     "text": [
      "[1] \"1은 TRUE이므로 이것도 항상실행\"\n"
     ]
    }
   ],
   "source": [
    "if (1) print('1은 TRUE이므로 이것도 항상실행')"
   ]
  },
  {
   "cell_type": "code",
   "execution_count": 88,
   "id": "b84a7990-eca5-45db-85d6-582d1f7f31c4",
   "metadata": {},
   "outputs": [],
   "source": [
    "if (0) print('0은 FALSE이므로 이것은 항상 실행되지 않음')"
   ]
  },
  {
   "cell_type": "code",
   "execution_count": 89,
   "id": "acf75588-648d-4ad0-940b-b6aa99c21557",
   "metadata": {},
   "outputs": [
    {
     "name": "stdout",
     "output_type": "stream",
     "text": [
      "[1] \"이것도 실행되는가?\"\n"
     ]
    }
   ],
   "source": [
    "if (-2) print('이것도 실행되는가?')"
   ]
  },
  {
   "cell_type": "markdown",
   "id": "d1285dd6-f24a-462c-b9a9-8f09ad9edc99",
   "metadata": {},
   "source": [
    "`-` `if (조건문) 표현식`에서 조건문의 결과가 벡터로 나오면 안된다. (매우중요 $\\star$)"
   ]
  },
  {
   "cell_type": "code",
   "execution_count": 90,
   "id": "64f1066a-7487-4067-b8c2-24b87659f5ba",
   "metadata": {},
   "outputs": [
    {
     "data": {
      "text/plain": [
       "[1]  TRUE FALSE"
      ]
     },
     "metadata": {},
     "output_type": "display_data"
    }
   ],
   "source": [
    "a=c(10,-10)\n",
    "a>0"
   ]
  },
  {
   "cell_type": "markdown",
   "id": "f30d3f54-655b-4a42-8fb5-bb3bbb05aff8",
   "metadata": {},
   "source": [
    "- 이것은 참인가 거짓인가? (하나만 참이면 참인가? 하나라도 거짓이면 거짓인가?) $\\to$ R은 첫번째 원소가 참이면 참으로 생각하고 첫번째 원소가 거짓이면 거짓으로 생각한다. "
   ]
  },
  {
   "cell_type": "code",
   "execution_count": 91,
   "id": "8acf3edf-6951-428e-adf0-3776e2b17cce",
   "metadata": {},
   "outputs": [
    {
     "name": "stderr",
     "output_type": "stream",
     "text": [
      "Warning message in if (a > 0) {:\n",
      "“the condition has length > 1 and only the first element will be used”\n"
     ]
    },
    {
     "name": "stdout",
     "output_type": "stream",
     "text": [
      "[1] \"a는 양수이다\"\n",
      "[1] \"양수인 a의 값은 아래와 같다\"\n",
      "[1]  10 -10\n"
     ]
    }
   ],
   "source": [
    "if (a>0)\n",
    "{\n",
    "print('a는 양수이다')\n",
    "print('양수인 a의 값은 아래와 같다')\n",
    "print(a)\n",
    "}    "
   ]
  },
  {
   "cell_type": "code",
   "execution_count": 92,
   "id": "c4a9dd23-7e7d-4840-b468-74762a3e1874",
   "metadata": {},
   "outputs": [
    {
     "name": "stderr",
     "output_type": "stream",
     "text": [
      "Warning message in if (a < 0) {:\n",
      "“the condition has length > 1 and only the first element will be used”\n"
     ]
    }
   ],
   "source": [
    "if (a<0)\n",
    "{\n",
    "print('a는 양수이다')\n",
    "print('양수인 a의 값은 아래와 같다')\n",
    "print(a)\n",
    "}    "
   ]
  },
  {
   "cell_type": "markdown",
   "id": "7a48f510-e165-4c68-bc17-445037056bf1",
   "metadata": {},
   "source": [
    "- 이러한 코드를 작성하면 안된다.. "
   ]
  },
  {
   "cell_type": "markdown",
   "id": "ecc13efc-25c4-4369-862a-1763e0687e4e",
   "metadata": {},
   "source": [
    "### if~else "
   ]
  },
  {
   "cell_type": "markdown",
   "id": "6097d8df-69a9-4e80-ad96-3386b85f4e5b",
   "metadata": {},
   "source": [
    "`-` 아래와 같이 `if (조건문) 표현식1 else 표현식2`의 형태로 실행한다. "
   ]
  },
  {
   "cell_type": "code",
   "execution_count": 110,
   "id": "28d3032b-a194-40e1-975e-063760ee0ccc",
   "metadata": {},
   "outputs": [
    {
     "data": {
      "text/plain": [
       "[1] 2.302585"
      ]
     },
     "metadata": {},
     "output_type": "display_data"
    }
   ],
   "source": [
    "x=10\n",
    "if (x>0) log(x) else print('x는 양수이어야함')"
   ]
  },
  {
   "cell_type": "code",
   "execution_count": 111,
   "id": "09fe611b-758c-4cb4-89f3-bd2208756338",
   "metadata": {},
   "outputs": [
    {
     "name": "stdout",
     "output_type": "stream",
     "text": [
      "[1] \"x는 양수이어야함\"\n"
     ]
    }
   ],
   "source": [
    "x=0\n",
    "if (x>0) log(x) else print('x는 양수이어야함')"
   ]
  },
  {
   "cell_type": "code",
   "execution_count": 112,
   "id": "a97510d8-291d-4bf2-8e05-0d041a537ae3",
   "metadata": {},
   "outputs": [
    {
     "name": "stdout",
     "output_type": "stream",
     "text": [
      "[1] \"x는 양수이어야함\"\n"
     ]
    }
   ],
   "source": [
    "x=-1\n",
    "if (x>0) log(x) else print('x는 양수이어야함')"
   ]
  },
  {
   "cell_type": "markdown",
   "id": "6b7d559c-bbce-49fa-a5d3-ebcbd2931b73",
   "metadata": {},
   "source": [
    "`-` if 문과 if else 문은 다른 기능이다. "
   ]
  },
  {
   "cell_type": "code",
   "execution_count": 119,
   "id": "76867433-3f26-4838-ad3f-fd1dcbe31563",
   "metadata": {},
   "outputs": [
    {
     "ename": "ERROR",
     "evalue": "Error in parse(text = x, srcfile = src): <text>:4:1: unexpected 'else'\n3:     log(x) \n4: else\n   ^\n",
     "output_type": "error",
     "traceback": [
      "Error in parse(text = x, srcfile = src): <text>:4:1: unexpected 'else'\n3:     log(x) \n4: else\n   ^\nTraceback:\n"
     ]
    }
   ],
   "source": [
    "x=10\n",
    "if (x>0) \n",
    "    log(x) \n",
    "else \n",
    "    print('x는 양수이어야함')"
   ]
  },
  {
   "cell_type": "markdown",
   "id": "3c2b5cf6-36c4-4572-98fc-f10cca1af4a9",
   "metadata": {},
   "source": [
    "`-` 컴퓨터는 한줄씩 해석함. 그래서 아래의 line3에서 이미 if문을 실행하고 볼일이 끝남"
   ]
  },
  {
   "cell_type": "markdown",
   "id": "5169cefd-8351-443c-b402-2c996828bf30",
   "metadata": {},
   "source": [
    "```r\n",
    "1. x=10\n",
    "2. if (x>0) \n",
    "3.    log(x) ### 이 시점에서 if문이라 해석하고 볼일 끝남 \n",
    "4. else \n",
    "5.    print('x는 양수이어야함')\n",
    "```"
   ]
  },
  {
   "cell_type": "markdown",
   "id": "40980ed3-bf23-4878-95da-48c38adfab52",
   "metadata": {},
   "source": [
    "- 2라인을 실행하면 에러가 나지 않는데, 이는 if문의 문법상 뒤에 뭔가 더 남았다는것 (주인이 뭔가 더 할말이 남았다는 것)을 인식함. "
   ]
  },
  {
   "cell_type": "markdown",
   "id": "e014001e-13eb-4e02-bf46-c4331a2780b2",
   "metadata": {},
   "source": [
    "`-` 내 말이 아직 안끝났음을 알려줘야함 $\\to$ 한줄에 다 말하거나..  `{}` 를 적절하게 활용하면 된다. "
   ]
  },
  {
   "cell_type": "code",
   "execution_count": 120,
   "id": "36c63cdc-46b2-4061-a9cf-eabf53bde7e2",
   "metadata": {},
   "outputs": [
    {
     "data": {
      "text/plain": [
       "[1] 2.302585"
      ]
     },
     "metadata": {},
     "output_type": "display_data"
    }
   ],
   "source": [
    "x=10 \n",
    "if (x>0)\n",
    "    log(x) else \n",
    "        print('x는 양수이어야함')"
   ]
  },
  {
   "cell_type": "code",
   "execution_count": 123,
   "id": "ceac53a5-58b0-42ed-8f6b-0b7a13f1edab",
   "metadata": {},
   "outputs": [
    {
     "data": {
      "text/plain": [
       "[1] 2.302585"
      ]
     },
     "metadata": {},
     "output_type": "display_data"
    }
   ],
   "source": [
    "x=10\n",
    "if (x>0)\n",
    "{\n",
    "    log(x)\n",
    "}else\n",
    "{\n",
    "    print('x는 양수이어야함')\n",
    "}"
   ]
  },
  {
   "cell_type": "code",
   "execution_count": 124,
   "id": "9afbc6ed-c656-4bc1-b3af-ed8249a32e7d",
   "metadata": {},
   "outputs": [
    {
     "data": {
      "text/plain": [
       "[1] 2.302585"
      ]
     },
     "metadata": {},
     "output_type": "display_data"
    }
   ],
   "source": [
    "x=10\n",
    "if (x>0){\n",
    "    log(x)\n",
    "}else{\n",
    "    print('x는 양수이어야함')\n",
    "}"
   ]
  },
  {
   "cell_type": "markdown",
   "id": "c5d82302-575a-4b55-8fe2-20142ac7dd2a",
   "metadata": {},
   "source": [
    "`-` Rcode정리하기에는 Rstudio가 훨씬좋음.. "
   ]
  },
  {
   "cell_type": "markdown",
   "id": "1848442e-e4f3-4e87-9a41-d6bd9d7698ed",
   "metadata": {},
   "source": [
    "### 중첩"
   ]
  },
  {
   "cell_type": "markdown",
   "id": "e88a353c-2fe6-414f-9b7a-3a2aff6b6a69",
   "metadata": {},
   "source": [
    "`-` 예비학습"
   ]
  },
  {
   "cell_type": "code",
   "execution_count": 145,
   "id": "9587f5f5-d2d2-466d-a455-9aa0df4946cc",
   "metadata": {},
   "outputs": [
    {
     "data": {
      "text/plain": [
       "[1] 1000"
      ]
     },
     "metadata": {},
     "output_type": "display_data"
    }
   ],
   "source": [
    "1e3"
   ]
  },
  {
   "cell_type": "code",
   "execution_count": 146,
   "id": "258082de-1c82-410a-bca3-1e10d8cf2910",
   "metadata": {},
   "outputs": [
    {
     "data": {
      "text/plain": [
       "[1] 0.0234"
      ]
     },
     "metadata": {},
     "output_type": "display_data"
    }
   ],
   "source": [
    "2.34e-2"
   ]
  },
  {
   "cell_type": "markdown",
   "id": "b3f35d18-1c9a-477c-b4ba-402c78b90f4d",
   "metadata": {},
   "source": [
    "`-` 예제시작"
   ]
  },
  {
   "cell_type": "code",
   "execution_count": 147,
   "id": "a60d80b1-8c82-419c-aa21-c76e49d8712b",
   "metadata": {},
   "outputs": [
    {
     "data": {
      "text/plain": [
       "[1] 2.302585"
      ]
     },
     "metadata": {},
     "output_type": "display_data"
    }
   ],
   "source": [
    "x=10\n",
    "if (x>0){\n",
    "    log(x)\n",
    "}else{\n",
    "    if(x==0){\n",
    "        x=1e-100\n",
    "        print('x=0에서는 log(x)가 정의되지 않았으므로 x=1e-100으로 바꾸어 계산하겠습니다.')\n",
    "        log(x)\n",
    "    }else{\n",
    "        print('x가 음수입니다.') \n",
    "    }\n",
    "}"
   ]
  },
  {
   "cell_type": "code",
   "execution_count": 148,
   "id": "641c7beb-706a-44f9-9649-a7556f23a3c1",
   "metadata": {},
   "outputs": [
    {
     "name": "stdout",
     "output_type": "stream",
     "text": [
      "[1] \"x=0에서는 log(x)가 정의되지 않았으므로 x=1e-100으로 바꾸어 계산하겠습니다.\"\n"
     ]
    },
    {
     "data": {
      "text/plain": [
       "[1] -230.2585"
      ]
     },
     "metadata": {},
     "output_type": "display_data"
    }
   ],
   "source": [
    "x=0\n",
    "if (x>0){\n",
    "    log(x)\n",
    "}else{\n",
    "    if(x==0){\n",
    "        x=1e-100\n",
    "        print('x=0에서는 log(x)가 정의되지 않았으므로 x=1e-100으로 바꾸어 계산하겠습니다.')\n",
    "        log(x)\n",
    "    }else{\n",
    "        print('x가 음수입니다.') \n",
    "    }\n",
    "}"
   ]
  },
  {
   "cell_type": "code",
   "execution_count": 149,
   "id": "ee8cad70-e49c-40cf-ae05-2602faf4376d",
   "metadata": {},
   "outputs": [
    {
     "name": "stdout",
     "output_type": "stream",
     "text": [
      "[1] \"x가 음수입니다.\"\n"
     ]
    }
   ],
   "source": [
    "x=-2\n",
    "if (x>0){\n",
    "    log(x)\n",
    "}else{\n",
    "    if(x==0){\n",
    "        x=1e-100\n",
    "        print('x=0에서는 log(x)가 정의되지 않았으므로 x=1e-100으로 바꾸어 계산하겠습니다.')\n",
    "        log(x)\n",
    "    }else{\n",
    "        print('x가 음수입니다.') \n",
    "    }\n",
    "}"
   ]
  },
  {
   "cell_type": "markdown",
   "id": "0896dc35-4733-42b7-b8d9-e2401a96bbf7",
   "metadata": {},
   "source": [
    "`-` 보통은 함수형태로 많이 사용함 (중괄호 지옥, rstudio가 더 좋아요)"
   ]
  },
  {
   "cell_type": "code",
   "execution_count": 150,
   "id": "df915459-14a2-4b41-a284-a1798c5a77ea",
   "metadata": {},
   "outputs": [],
   "source": [
    "mylog<-function(x){\n",
    "    if (x>0){\n",
    "        log(x)\n",
    "    }else{\n",
    "        if(x==0){\n",
    "            x=1e-100\n",
    "            print('x=0에서는 log(x)가 정의되지 않았으므로 x=1e-100으로 바꾸어 계산하겠습니다.')\n",
    "            log(x)\n",
    "        }else{\n",
    "            print('x가 음수입니다.') \n",
    "        }\n",
    "    }\n",
    "}"
   ]
  },
  {
   "cell_type": "code",
   "execution_count": 152,
   "id": "e4fa832a-2499-460b-a156-5d8419d992ce",
   "metadata": {},
   "outputs": [
    {
     "name": "stdout",
     "output_type": "stream",
     "text": [
      "[1] \"x가 음수입니다.\"\n"
     ]
    }
   ],
   "source": [
    "mylog(-1)"
   ]
  },
  {
   "cell_type": "code",
   "execution_count": 153,
   "id": "8554e59b-5e40-4bd1-8ebd-dd52b0edd8a7",
   "metadata": {},
   "outputs": [
    {
     "data": {
      "text/plain": [
       "[1] 2.302585"
      ]
     },
     "metadata": {},
     "output_type": "display_data"
    }
   ],
   "source": [
    "mylog(10)"
   ]
  },
  {
   "cell_type": "code",
   "execution_count": 154,
   "id": "88da0723-4963-4b5a-92fd-e2ca3b05e4b8",
   "metadata": {},
   "outputs": [
    {
     "name": "stdout",
     "output_type": "stream",
     "text": [
      "[1] \"x=0에서는 log(x)가 정의되지 않았으므로 x=1e-100으로 바꾸어 계산하겠습니다.\"\n"
     ]
    },
    {
     "data": {
      "text/plain": [
       "[1] -230.2585"
      ]
     },
     "metadata": {},
     "output_type": "display_data"
    }
   ],
   "source": [
    "mylog(0)"
   ]
  }
 ],
 "metadata": {
  "kernelspec": {
   "display_name": "R",
   "language": "R",
   "name": "ir"
  },
  "language_info": {
   "codemirror_mode": "r",
   "file_extension": ".r",
   "mimetype": "text/x-r-source",
   "name": "R",
   "pygments_lexer": "r",
   "version": "4.0.5"
  }
 },
 "nbformat": 4,
 "nbformat_minor": 5
}
